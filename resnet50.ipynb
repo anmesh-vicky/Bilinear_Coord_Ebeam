{
 "cells": [
  {
   "cell_type": "code",
   "execution_count": 1,
   "metadata": {},
   "outputs": [
    {
     "name": "stderr",
     "output_type": "stream",
     "text": [
      "Using TensorFlow backend.\n"
     ]
    }
   ],
   "source": [
    "\n",
    "import keras\n",
    "import keras.applications\n",
    "from keras import Model, layers\n",
    "from keras.layers import Input,Conv2D"
   ]
  },
  {
   "cell_type": "code",
   "execution_count": 2,
   "metadata": {},
   "outputs": [],
   "source": [
    "from keras.applications.resnet50 import ResNet50"
   ]
  },
  {
   "cell_type": "code",
   "execution_count": 3,
   "metadata": {},
   "outputs": [
    {
     "name": "stdout",
     "output_type": "stream",
     "text": [
      "WARNING:tensorflow:From /home/anmesh/.conda/envs/crystal/lib/python3.7/site-packages/tensorflow/python/framework/op_def_library.py:263: colocate_with (from tensorflow.python.framework.ops) is deprecated and will be removed in a future version.\n",
      "Instructions for updating:\n",
      "Colocations handled automatically by placer.\n"
     ]
    },
    {
     "name": "stderr",
     "output_type": "stream",
     "text": [
      "/home/anmesh/.conda/envs/crystal/lib/python3.7/site-packages/keras_applications/resnet50.py:265: UserWarning: The output shape of `ResNet50(include_top=False)` has been changed since Keras 2.2.0.\n",
      "  warnings.warn('The output shape of `ResNet50(include_top=False)` '\n"
     ]
    }
   ],
   "source": [
    "from keras.optimizers import Adam\n",
    "tensor_input = Input(shape=(128, 128, 3))\n",
    "model = ResNet50(input_tensor = tensor_input ,include_top=False,weights=None)\n",
    "x = model.output\n",
    "x = layers.GlobalAveragePooling2D()(x)\n",
    "x = layers.Dense(128, activation='relu')(x) \n",
    "predictions = layers.Dense(6, activation='softmax')(x)\n",
    "model = Model(model.input, predictions)\n"
   ]
  },
  {
   "cell_type": "code",
   "execution_count": null,
   "metadata": {},
   "outputs": [],
   "source": [
    "optimizer = keras.optimizers.Adam()\n",
    "model.compile(loss='categorical_crossentropy',\n",
    "              optimizer=optimizer,\n",
    "              metrics=['accuracy'])"
   ]
  },
  {
   "cell_type": "code",
   "execution_count": null,
   "metadata": {},
   "outputs": [
    {
     "name": "stdout",
     "output_type": "stream",
     "text": [
      "Found 42000 images belonging to 6 classes.\n",
      "Found 9000 images belonging to 6 classes.\n",
      "Found 9000 images belonging to 6 classes.\n"
     ]
    }
   ],
   "source": [
    "from keras.callbacks import ModelCheckpoint,TensorBoard,ReduceLROnPlateau\n",
    "from dataLoader import data_loader\n",
    "\n",
    "filepath = \"weights-impVGG-{epoch:02d}-{val_acc:.2f}.hdf5\"\n",
    "#load any previous weight files \\\n",
    "# Model.load_weights(\"weights-imp-18-0.73.hdf5\")\n",
    "\n",
    "dataLoader = data_loader('data/train', 'data/val', 'data/test')\n",
    "train_generator, validation_generator, test_generator = dataLoader.load_images()\n",
    "checkpoint_1 = ModelCheckpoint(filepath, monitor='val_acc', verbose=1, save_best_only=True, mode='max')\n",
    "checkpoint_2 =  TensorBoard(log_dir='logs/{}', histogram_freq=0, write_graph=True, write_images=True)\n",
    "reduce_lr = ReduceLROnPlateau(monitor='val_loss', patience=5, cooldown=0)\n",
    "callbacks_list = [checkpoint_2,checkpoint_1,reduce_lr]\n",
    "#NO. of Steps per epoch \n",
    "train_steps = np.math.ceil(train_generator.samples / train_generator.batch_size)\n",
    "val_steps = np.math.ceil(validation_generator.samples / validation_generator.batch_size)\n",
    "test_steps = np.math.ceil(test_generator.samples / test_generator.batch_size)\n",
    "\n",
    "history = model.fit_generator(train_generator, steps_per_epoch =train_steps, epochs = 20,callbacks=callbacks_list,validation_data=test_generator,validation_steps = val_steps)\n",
    "print('--------Test data--------')\n",
    "\n",
    "x = model.evaluate_generator(test_generator, steps = test_steps,verbose = 1)\n",
    "print(x)"
   ]
  },
  {
   "cell_type": "code",
   "execution_count": null,
   "metadata": {},
   "outputs": [],
   "source": [
    "model.summary()"
   ]
  },
  {
   "cell_type": "code",
   "execution_count": null,
   "metadata": {},
   "outputs": [],
   "source": []
  }
 ],
 "metadata": {
  "kernelspec": {
   "display_name": "Python 2",
   "language": "python",
   "name": "python2"
  },
  "language_info": {
   "codemirror_mode": {
    "name": "ipython",
    "version": 3
   },
   "file_extension": ".py",
   "mimetype": "text/x-python",
   "name": "python",
   "nbconvert_exporter": "python",
   "pygments_lexer": "ipython3",
   "version": "3.7.3"
  }
 },
 "nbformat": 4,
 "nbformat_minor": 2
}
