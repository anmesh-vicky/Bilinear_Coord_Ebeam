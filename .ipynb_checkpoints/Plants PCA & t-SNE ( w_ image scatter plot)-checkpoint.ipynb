{
 "cells": [
  {
   "cell_type": "code",
   "execution_count": 1,
   "metadata": {
    "_cell_guid": "84b517f4-4ee3-4a9a-a996-aa541e478007",
    "_uuid": "a403fc4c63bbfc64d1dd7711ebb144b9cc42172e"
   },
   "outputs": [],
   "source": [
    "%matplotlib inline\n",
    "import os\n",
    "import matplotlib\n",
    "import matplotlib.pyplot as plt\n",
    "from matplotlib.offsetbox import OffsetImage, AnnotationBbox\n",
    "import cv2\n",
    "import numpy as np\n",
    "from glob import glob\n",
    "import matplotlib.cm as cm\n",
    "from sklearn.decomposition import PCA\n",
    "from sklearn.manifold import TSNE\n",
    "from sklearn.preprocessing import StandardScaler"
   ]
  },
  {
   "cell_type": "code",
   "execution_count": 8,
   "metadata": {
    "_cell_guid": "33af5e35-f402-4a52-882b-14502bbb6a21",
    "_uuid": "ec9973d81e0adc3af427e20ba9c41386bb5c821c"
   },
   "outputs": [],
   "source": [
    "BASE_DATA_FOLDER = \"data\"\n",
    "TRAin_DATA_FOLDER = os.path.join(BASE_DATA_FOLDER, \"train\")"
   ]
  },
  {
   "cell_type": "code",
   "execution_count": 9,
   "metadata": {
    "_cell_guid": "379e7165-f94a-44d7-b899-c145c4912d55",
    "_uuid": "deb2e410e83cd59c716669237e8d6c75fee90470"
   },
   "outputs": [],
   "source": [
    "def create_mask_for_plant(image):\n",
    "    image_hsv = cv2.cvtColor(image, cv2.COLOR_BGR2HSV)\n",
    "\n",
    "    sensitivity = 35\n",
    "    lower_hsv = np.array([60 - sensitivity, 100, 50])\n",
    "    upper_hsv = np.array([60 + sensitivity, 255, 255])\n",
    "\n",
    "    mask = cv2.inRange(image_hsv, lower_hsv, upper_hsv)\n",
    "    kernel = cv2.getStructuringElement(cv2.MORPH_ELLIPSE, (11,11))\n",
    "    mask = cv2.morphologyEx(mask, cv2.MORPH_CLOSE, kernel)\n",
    "    \n",
    "    return mask\n",
    "\n",
    "def segment_plant(image):\n",
    "    mask = create_mask_for_plant(image)\n",
    "    output = cv2.bitwise_and(image, image, mask = mask)\n",
    "    return output"
   ]
  },
  {
   "cell_type": "code",
   "execution_count": 10,
   "metadata": {
    "_cell_guid": "023dbad4-0687-4b1c-8e87-e97c9c484b7a",
    "_uuid": "2030bc9a30b290b42fbc4b91c8ef2b6d51cad0a2"
   },
   "outputs": [],
   "source": [
    "def visualize_scatter_with_images(X_2d_data, images, figsize=(45,45), image_zoom=1):\n",
    "    fig, ax = plt.subplots(figsize=figsize)\n",
    "    artists = []\n",
    "    for xy, i in zip(X_2d_data, images):\n",
    "        x0, y0 = xy\n",
    "        img = OffsetImage(i, zoom=image_zoom)\n",
    "        ab = AnnotationBbox(img, (x0, y0), xycoords='data', frameon=False)\n",
    "        artists.append(ax.add_artist(ab))\n",
    "    ax.update_datalim(X_2d_data)\n",
    "    ax.autoscale()\n",
    "    plt.show()"
   ]
  },
  {
   "cell_type": "code",
   "execution_count": 11,
   "metadata": {
    "_cell_guid": "621148a2-3e9b-4586-9c77-6a624de8f7fc",
    "_uuid": "c8a5b9a2c8c8291fe5652b1187f05140fb48d0f5"
   },
   "outputs": [],
   "source": [
    "def visualize_scatter(data_2d, label_ids, figsize=(20,20)):\n",
    "    plt.figure(figsize=figsize)\n",
    "    plt.grid()\n",
    "    \n",
    "    nb_classes = len(np.unique(label_ids))\n",
    "    \n",
    "    for label_id in np.unique(label_ids):\n",
    "        plt.scatter(data_2d[np.where(label_ids == label_id), 0],\n",
    "                    data_2d[np.where(label_ids == label_id), 1],\n",
    "                    marker='o',\n",
    "                    color= plt.cm.Set1(label_id / float(nb_classes)),\n",
    "                    linewidth='1',\n",
    "                    alpha=0.8,\n",
    "                    label=id_to_label_dict[label_id])\n",
    "    plt.legend(loc='best')"
   ]
  },
  {
   "cell_type": "code",
   "execution_count": 12,
   "metadata": {
    "_cell_guid": "c9fa055c-c3b2-4030-8362-1ae8344df8a6",
    "_uuid": "5192a97c4f75c79e6e4bcfba0fd95ce8de031613"
   },
   "outputs": [],
   "source": [
    "images = []\n",
    "labels = []\n",
    "\n",
    "for class_folder_name in os.listdir(TRAin_DATA_FOLDER):\n",
    "    class_folder_path = os.path.join(TRAin_DATA_FOLDER, class_folder_name)\n",
    "    for image_path in glob(os.path.join(class_folder_path, \"*.png\")):\n",
    "        image = cv2.imread(image_path, cv2.IMREAD_COLOR)\n",
    "        \n",
    "        image = cv2.resize(image, (150, 150))\n",
    "        image = segment_plant(image)\n",
    "        image = cv2.cvtColor(image, cv2.COLOR_BGR2GRAY)\n",
    "        image = cv2.resize(image, (45,45))\n",
    "        \n",
    "        image = image.flatten()\n",
    "        \n",
    "        images.append(image)\n",
    "        labels.append(class_folder_name)\n",
    "        \n",
    "images = np.array(images)\n",
    "labels = np.array(labels)"
   ]
  },
  {
   "cell_type": "code",
   "execution_count": 13,
   "metadata": {
    "_cell_guid": "a2175c26-f210-4712-b483-48372408df9a",
    "_uuid": "fa7847878aa4fe8d554394f56d9cc3b412a23395"
   },
   "outputs": [],
   "source": [
    "label_to_id_dict = {v:i for i,v in enumerate(np.unique(labels))}\n",
    "id_to_label_dict = {v: k for k, v in label_to_id_dict.items()}"
   ]
  },
  {
   "cell_type": "code",
   "execution_count": 14,
   "metadata": {
    "_cell_guid": "be0c0a68-914e-4be1-bf95-19ab786632ad",
    "_uuid": "8294b22e23f72b13c5894cbd7f03332a0bc5615e"
   },
   "outputs": [],
   "source": [
    "label_ids = np.array([label_to_id_dict[x] for x in labels])"
   ]
  },
  {
   "cell_type": "code",
   "execution_count": 15,
   "metadata": {
    "_cell_guid": "f89548e2-4747-45ba-9473-1da2cd3a331b",
    "_uuid": "f9065b68e8a2b78c87077876a219239b6cc7113d"
   },
   "outputs": [],
   "source": [
    "images_scaled = StandardScaler().fit_transform(images)"
   ]
  },
  {
   "cell_type": "code",
   "execution_count": 16,
   "metadata": {
    "_cell_guid": "fe545b7b-2d0e-470a-b996-57b52e8bf572",
    "_uuid": "5e079ea6aa0326618ca88b3c4449aabb6b22be90"
   },
   "outputs": [
    {
     "data": {
      "text/plain": [
       "(10500, 2025)"
      ]
     },
     "execution_count": 16,
     "metadata": {},
     "output_type": "execute_result"
    }
   ],
   "source": [
    "images_scaled.shape"
   ]
  },
  {
   "cell_type": "code",
   "execution_count": 17,
   "metadata": {
    "_cell_guid": "63a811a8-bd7e-4766-b69e-b66d5564fc0c",
    "_uuid": "49191f5e68b3e0a94b5e09569f42395deff0a76e"
   },
   "outputs": [
    {
     "data": {
      "text/plain": [
       "(10500,)"
      ]
     },
     "execution_count": 17,
     "metadata": {},
     "output_type": "execute_result"
    }
   ],
   "source": [
    "label_ids.shape"
   ]
  },
  {
   "cell_type": "code",
   "execution_count": 18,
   "metadata": {
    "_cell_guid": "dea76a33-c676-4593-9095-069d16bd7206",
    "_uuid": "597ff6006c4e11c67753cba81329e7c714177fb7"
   },
   "outputs": [
    {
     "data": {
      "text/plain": [
       "<matplotlib.image.AxesImage at 0x7f892ff42080>"
      ]
     },
     "execution_count": 18,
     "metadata": {},
     "output_type": "execute_result"
    },
    {
     "data": {
      "image/png": "[encoded data removed]",
      "text/plain": [
       "<Figure size 432x288 with 1 Axes>"
      ]
     },
     "metadata": {
      "needs_background": "light"
     },
     "output_type": "display_data"
    }
   ],
   "source": [
    "plt.imshow(np.reshape(images[734], (45,45)), cmap=\"gray\")"
   ]
  },
  {
   "cell_type": "markdown",
   "metadata": {
    "_cell_guid": "e1aa6c44-5603-449e-8f53-6ab6fb64d365",
    "_uuid": "28f223907620fc16bd311d158b4e3d6fa098f9c6"
   },
   "source": [
    "## PCA"
   ]
  },
  {
   "cell_type": "code",
   "execution_count": 19,
   "metadata": {
    "_cell_guid": "209824e2-d84c-4b4a-a992-3e1508dc0435",
    "_uuid": "394bf470e0590d218736fed81242b2799858bd49"
   },
   "outputs": [
    {
     "name": "stderr",
     "output_type": "stream",
     "text": [
      "/home/anmesh/.conda/envs/crystal/lib/python3.7/site-packages/sklearn/decomposition/pca.py:536: RuntimeWarning: invalid value encountered in true_divide\n",
      "  self.explained_variance_ / total_var.sum()\n"
     ]
    }
   ],
   "source": [
    "pca = PCA(n_components=180)\n",
    "pca_result = pca.fit_transform(images_scaled)"
   ]
  },
  {
   "cell_type": "code",
   "execution_count": 20,
   "metadata": {
    "_cell_guid": "22613407-1df3-46b0-b1d2-774746a6d966",
    "_uuid": "0dddeaaca0f7e8d1e39457bf9818347d565bc415"
   },
   "outputs": [
    {
     "data": {
      "text/plain": [
       "(10500, 180)"
      ]
     },
     "execution_count": 20,
     "metadata": {},
     "output_type": "execute_result"
    }
   ],
   "source": [
    "pca_result.shape"
   ]
  },
  {
   "cell_type": "markdown",
   "metadata": {
    "_cell_guid": "d43e63e1-6c7a-4853-bdb5-e38922b3e8cc",
    "_uuid": "8ebfe7e5785fe097f3a3fd1095294c0d837d9563"
   },
   "source": [
    "## t-SNE after PCA"
   ]
  },
  {
   "cell_type": "code",
   "execution_count": 21,
   "metadata": {
    "_cell_guid": "8b3897e0-7037-4a59-a605-4ee5485a664c",
    "_uuid": "48ba9bedfa0bf39a8bcda70c25b902417c902091"
   },
   "outputs": [],
   "source": [
    "tsne = TSNE(n_components=2, perplexity=40.0)"
   ]
  },
  {
   "cell_type": "code",
   "execution_count": null,
   "metadata": {
    "_cell_guid": "ceb43b91-0a44-48ff-8f2d-cbff57b4375e",
    "_uuid": "7239c6597347be8ccacca159fc9bfa8140d947d7"
   },
   "outputs": [],
   "source": [
    "tsne_result = tsne.fit_transform(pca_result)"
   ]
  },
  {
   "cell_type": "code",
   "execution_count": null,
   "metadata": {
    "_cell_guid": "850ab1dc-baa1-4aef-a0d5-5cd5c080fbcd",
    "_uuid": "43e77ba4e4419b762d0a3992eb9426033bd0772a"
   },
   "outputs": [],
   "source": [
    "tsne_result_scaled = StandardScaler().fit_transform(tsne_result)"
   ]
  },
  {
   "cell_type": "code",
   "execution_count": null,
   "metadata": {
    "_cell_guid": "6a1b9a5b-577b-4537-b88b-0defb2807a06",
    "_uuid": "16ee84b973fc69eb92da98bf246060d3aa39e1e9"
   },
   "outputs": [],
   "source": [
    "visualize_scatter(tsne_result_scaled, label_ids)"
   ]
  },
  {
   "cell_type": "code",
   "execution_count": null,
   "metadata": {
    "_cell_guid": "26095223-6f60-4c10-a3e5-6b2487d0d0f7",
    "_uuid": "34099503aa196a1864bb951e96c585f45aec1d56"
   },
   "outputs": [],
   "source": [
    "visualize_scatter_with_images(tsne_result_scaled, images = [np.reshape(i, (45,45)) for i in images], image_zoom=0.7)"
   ]
  },
  {
   "cell_type": "markdown",
   "metadata": {
    "_cell_guid": "faf7f925-9068-46a7-ba8a-dd2e90511969",
    "_uuid": "78ac19e5325be5b1da00f80ab4b0c288d75514ea"
   },
   "source": [
    "## 3D t-SNE with animation"
   ]
  },
  {
   "cell_type": "code",
   "execution_count": null,
   "metadata": {
    "_cell_guid": "29f895ab-39f1-41b3-bb12-523281bd7fce",
    "_uuid": "8c8191b165afe03daf229b27a0897fb3e91bfb60",
    "collapsed": true
   },
   "outputs": [],
   "source": [
    "tsne = TSNE(n_components=3)\n",
    "tsne_result = tsne.fit_transform(pca_result)\n",
    "tsne_result_scaled = StandardScaler().fit_transform(tsne_result)"
   ]
  },
  {
   "cell_type": "code",
   "execution_count": null,
   "metadata": {
    "_cell_guid": "0383af96-31ac-43a9-a62e-49a26e8382c4",
    "_uuid": "2505c5a74c249c31ccdceebc8a22fd2722a02332",
    "collapsed": true
   },
   "outputs": [],
   "source": [
    "from mpl_toolkits.mplot3d import Axes3D\n",
    "from matplotlib import animation"
   ]
  },
  {
   "cell_type": "code",
   "execution_count": null,
   "metadata": {
    "_cell_guid": "a0507963-6f74-4dad-9be1-b11ee7eea9c2",
    "_uuid": "22ee19dbc4193088f3f680fc6224ce1d8ae0b8bd",
    "scrolled": false
   },
   "outputs": [],
   "source": [
    "fig = plt.figure(figsize=(25,25))\n",
    "ax = fig.add_subplot(111,projection='3d')\n",
    "\n",
    "plt.grid()\n",
    "    \n",
    "nb_classes = len(np.unique(label_ids))\n",
    "    \n",
    "for label_id in np.unique(label_ids):\n",
    "    ax.scatter(tsne_result_scaled[np.where(label_ids == label_id), 0],\n",
    "                tsne_result_scaled[np.where(label_ids == label_id), 1],\n",
    "                tsne_result_scaled[np.where(label_ids == label_id), 2],\n",
    "                alpha=0.8,\n",
    "                color= plt.cm.Set1(label_id / float(nb_classes)),\n",
    "                marker='o',\n",
    "                label=id_to_label_dict[label_id])\n",
    "ax.legend(loc='best')\n",
    "ax.view_init(25, 45)\n",
    "ax.set_xlim(-2.5, 2.5)\n",
    "ax.set_ylim(-2.5, 2.5)\n",
    "ax.set_zlim(-2.5, 2.5)"
   ]
  },
  {
   "cell_type": "code",
   "execution_count": null,
   "metadata": {
    "collapsed": true
   },
   "outputs": [],
   "source": [
    "anim = animation.FuncAnimation(fig, lambda frame_number: ax.view_init(30, 4 * frame_number), interval=75, frames=90)"
   ]
  },
  {
   "cell_type": "code",
   "execution_count": null,
   "metadata": {
    "_cell_guid": "3a705239-a9fb-45b2-85ee-296b208f6313",
    "_uuid": "6b87688cea7ceeeff3e090ee39710f002acb672a",
    "collapsed": true
   },
   "outputs": [],
   "source": [
    "plot_3d_animation_filename = 'animation.gif'\n",
    "anim.save(plot_3d_animation_filename, writer='imagemagick')"
   ]
  },
  {
   "cell_type": "code",
   "execution_count": null,
   "metadata": {
    "_cell_guid": "db025d58-2b81-4501-88c3-1b3d3ad75e70",
    "_uuid": "a6cc883597bc50195f4364d39b6e05e51a9a30b3",
    "collapsed": true
   },
   "outputs": [],
   "source": [
    "import io\n",
    "import base64\n",
    "from IPython.display import HTML\n",
    "\n",
    "video = io.open(plot_3d_animation_filename, 'r+b').read()\n",
    "# HTML(data='''<img src=\"data:image/gif;base64,{0}\" type=\"gif\" />'''.format(base64.b64encode(video).decode('ascii')))"
   ]
  },
  {
   "cell_type": "markdown",
   "metadata": {
    "_cell_guid": "c87d0805-2b61-4a3d-bfad-0d0861dbe773",
    "_uuid": "b6bd4e6ee3711082e398ca5784ab2bdec1fef222",
    "collapsed": true
   },
   "source": [
    "With this last step we would get a neat little 3D scatter plot animation. I commented it, because the size of the gif can take up to 30MB and it slows down the whole notebook unfortunately. If you would like to try it out, just uncomment it and run the last cell. Or of course you can view it with any program because it is saved as `animation.gif` "
   ]
  }
 ],
 "metadata": {
  "kernelspec": {
   "display_name": "Python 3",
   "language": "python",
   "name": "python3"
  },
  "language_info": {
   "codemirror_mode": {
    "name": "ipython",
    "version": 3
   },
   "file_extension": ".py",
   "mimetype": "text/x-python",
   "name": "python",
   "nbconvert_exporter": "python",
   "pygments_lexer": "ipython3",
   "version": "3.7.3"
  }
 },
 "nbformat": 4,
 "nbformat_minor": 1
}
