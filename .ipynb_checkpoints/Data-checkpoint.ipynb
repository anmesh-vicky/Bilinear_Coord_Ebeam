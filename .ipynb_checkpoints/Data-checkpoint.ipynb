{
 "cells": [
  {
   "cell_type": "code",
   "execution_count": 9,
   "metadata": {},
   "outputs": [],
   "source": [
    "import numpy as np\n",
    "import matplotlib.pyplot as plt\n",
    "from scipy.ndimage import gaussian_filter\n",
    "from scipy.signal import hamming"
   ]
  },
  {
   "cell_type": "code",
   "execution_count": 10,
   "metadata": {},
   "outputs": [],
   "source": [
    "def add_noise(atom_positions):\n",
    "\n",
    "    \"\"\"\n",
    "    This function generates data for the noise class.\n",
    "\n",
    "    Parameters\n",
    "    -----------\n",
    "    atom_positions: array\n",
    "        Array of atom_positions\n",
    "    \n",
    "    Returns\n",
    "    -----------\n",
    "    distorted: array\n",
    "        Array of atoms positions after the noise has been added\n",
    "    \"\"\"\n",
    "    noise = np.random.randn(atom_positions.shape[0], atom_positions.shape[1])\n",
    "    return atom_positions+noise\n",
    "\n",
    "def distortions(atom_positions, a1, a2, distortion_factor = 0.03):\n",
    "    \n",
    "    \"\"\"\n",
    "    This function adds distortions to the atom positions along the 'a1' lattice parameter.\n",
    "\n",
    "    Parameters\n",
    "    -----------\n",
    "    atom_positions: array\n",
    "        Array of atom_positions\n",
    "    a1: float \n",
    "        The lattice parameter a1\n",
    "    a2: float\n",
    "        The lattice parameter a2\n",
    "    distortion_factor: float\n",
    "        The percentage by which the length between atoms has to be change\n",
    "    \n",
    "    Returns\n",
    "    -----------\n",
    "    distorted: array\n",
    "        Array of atoms positions after the distortions\n",
    "    \"\"\"\n",
    "    \n",
    "    x_dis = np.random.normal(loc = 0.0, scale = distortion_factor*a1, size = None)\n",
    "    y_dis = np.random.normal(loc = 0.0, scale = distortion_factor*a2, size = None)\n",
    "#     print('XDIS YDIS', x_dis, y_dis)\n",
    "    distorted = np.full(atom_positions.shape, fill_value=[x_dis, y_dis], dtype=float)\n",
    "#     print(\"Before Distortion\\n\",atom_positions)\n",
    "#     print('ATOM+DIS \\n', atom_positions+distorted)\n",
    "    return distorted+ atom_positions\n",
    "def lattice(parms,nxx=25, nyy = 25):\n",
    "    \n",
    "    \"\"\"Function that creates an oblique lattice\n",
    "    Inputs: - parms:  3x1 vector with parameters [a1,a2,phi]\n",
    "                      where a1 is the first lattice parameter, a2 is the second\n",
    "                      and phi is the angle between the two vectors in radians\n",
    "            - nxx: (optional), int, number of unit cells repeated in the x direction\n",
    "            - nyy: (optional), int, number of unit cells repeated in the y direction\n",
    "    \n",
    "    Output: atom_positions: Numpy Matrix of size (nxx*nyy,2)\"\"\"\n",
    "   \n",
    "     \n",
    "    a1 = parms[0]\n",
    "    a2 = parms[1]\n",
    "    phi = parms[2]\n",
    "\n",
    "    #Create lattice\n",
    "\n",
    "    nx,ny = np.meshgrid(np.arange(nxx), np.arange(nyy))\n",
    "\n",
    "    atom_pos = []\n",
    "    for nxx, nyy in zip(nx.ravel(),ny.ravel()):\n",
    "        x_ind = nxx * a1 + nyy * a2 * np.cos(phi)\n",
    "        y_ind = nyy * a2 * np.sin(phi)\n",
    "\n",
    "        atom_pos.append((x_ind,y_ind))\n",
    "\n",
    "    return np.array(atom_pos),a1 ,a2\n",
    "\n",
    "\n",
    "def atom_to_img(atom_pos,img_dim = 1024, img_dim_1 = None,img_dim_2 = None):\n",
    "    \"\"\"Function that takes a list of atomic positions and converts them to an\n",
    "    image\n",
    "    Inputs: - atom_pos: output matrix of size (Nx2) with (x,y) coordinates of \n",
    "                        atoms in the lattice.\n",
    "            - img_dim: (optional), int, size of image. Square images only.\n",
    "            \n",
    "    Output: atom_positions: Numpy Matrix of size (nxx*nyy,2)\"\"\"\n",
    "    if img_dim_1:\n",
    "        image_atoms = np.zeros((img_dim_1,img_dim_2))\n",
    "    else:\n",
    "        image_atoms = np.zeros((img_dim,img_dim))\n",
    "    \n",
    "    max_x = np.max(atom_pos[:,0])\n",
    "    max_y = np.max(atom_pos[:,1])\n",
    "\n",
    "    min_x = np.min(atom_pos[:,0])\n",
    "    min_y = np.min(atom_pos[:,1])\n",
    "    \n",
    "    for ind in range(atom_pos.shape[0]):\n",
    "        max_val = max(max_x, max_y)\n",
    "        min_val = min(min_x, min_y)\n",
    "        \n",
    "        x1,y1 = atom_pos[ind,0], atom_pos[ind,1]\n",
    "        if img_dim_1:\n",
    "            x_img = int((x1 - min_val)/(max_val - min_val) * (img_dim_1-1)) #are we placing the images only at the integer coordinates?\n",
    "            y_img = int((y1-min_val)/(max_val - min_val) * (img_dim_2-1))\n",
    "        else:    \n",
    "            x_img = int((x1 - min_val)/(max_val - min_val) * (img_dim-1)) #are we placing the images only at the integer coordinates?\n",
    "            y_img = int((y1-min_val)/(max_val - min_val) * (img_dim-1))\n",
    "\n",
    "        image_atoms[x_img, y_img]=1E6 #Place an intense point in the image at \n",
    "                                      #that atomic site\n",
    "        \n",
    "    return image_atoms\n",
    "\n",
    "def convolve_atomic_img(image_atoms, sigma = 6):\n",
    "# \"\"\"Convolve input image with gaussian filter.\n",
    "#   Input: - image_atoms: 2D Numpy Array\n",
    "#          - sigma: int, optional, std. dev. of Gaussian\n",
    "#   Output: - filtered_image: 2D Numpy array, same size as input image\"\"\"\n",
    "  \n",
    "    return gaussian_filter(image_atoms,sigma,order = 0)"
   ]
  },
  {
   "cell_type": "code",
   "execution_count": 11,
   "metadata": {},
   "outputs": [],
   "source": [
    "####function that Genrates Images for differnet classes\n",
    "def Params(Structure ,No_):\n",
    "    if Structure == \"Square\":\n",
    "        a1_list = np.random.uniform(low = 0.8, high =2.2,size = No_)\n",
    "        a2_list = a1_list\n",
    "        phi_list = np.random.uniform(low = np.pi/2, high = np.pi/2, size = No_)\n",
    "    elif Structure == \"Rectangular\":\n",
    "        a1_list = np.random.uniform(low = 1, high = 2.2,size = No_)\n",
    "        a2_list = a1_list\n",
    "        phi_list = np.random.uniform(low = np.pi/2, high = np.pi/2, size = No_)\n",
    "        ######\n",
    "    elif Structure == \"Hexagonal\":# fix\n",
    "        a1_list = np.random.uniform(low = 0.8, high = 2.2,size = No_)\n",
    "        a2_list = a1_list\n",
    "        phi_list = np.random.uniform(low = np.pi/3, high = np.pi/3, size = No_)\n",
    "    elif Structure == \"Centred\":\n",
    "        a1_list = np.random.uniform(low = 0.8, high = 2.2,size = No_)\n",
    "        a2_list = a1_list\n",
    "        phi_list = np.random.uniform(low = 1, high = np.pi/2-1e-3, size = No_//2)\n",
    "        phi_list = np.append(phi_list,np.random.uniform(low = np.pi/2+1e-3, high = 2.1 , size = No_//2))\n",
    "    elif Structure == \"Noise\":      \n",
    "        a1_list = np.random.uniform(low = 0.8, high = 2.2,size = No_)\n",
    "        a2_list = np.random.uniform(low = 0.8, high = 2.1, size=No_)\n",
    "        phi_list = np.random.uniform(low = 1, high = np.pi/2-1e-1, size = No_//2)\n",
    "        phi_list = np.append(phi_list,np.random.uniform(low = np.pi/2+1e-1, high = np.pi*.8-1e-1, size = No_//2))\n",
    "    elif Structure == \"Obilique\":\n",
    "        a1_list = np.random.uniform(low = 1, high = 2.2,size = No_)\n",
    "        a2_list = np.random.uniform(low = 1, high = 2.2, size = No_)\n",
    "        phi_list = np.random.uniform(low = .5, high = np.pi/2-1e-3, size = No_//2)\n",
    "        phi_list = np.append(phi_list,np.random.uniform(low = np.pi/2+1e-3, high = np.pi*.8-1e-1, size = No_//2))\n",
    "        print (phi_list)\n",
    "\n",
    "    P = {\"a1_list\":a1_list,\"a2_list\":a2_list,\"phi_list\":phi_list}\n",
    "    return P\n"
   ]
  },
  {
   "cell_type": "code",
   "execution_count": 12,
   "metadata": {},
   "outputs": [],
   "source": [
    "### data Argumentor #########\n",
    "import os"
   ]
  },
  {
   "cell_type": "code",
   "execution_count": 13,
   "metadata": {},
   "outputs": [],
   "source": [
    "def save_img(No_):\n",
    "    directory = \"./data_str/\"\n",
    "    Struct = [\"Rectangular\",\"Hexagonal\",\"Centred\",\"Square\",\"Obilique\",\"Noise\"]\n",
    "#     Struct = [\"Centred\"]\n",
    "    for i in Struct:\n",
    "        print(\"Current_Structure:\"+i)\n",
    "        img_ffts=[]\n",
    "        fft_win_size = 128\n",
    "        params = Params(i,No_)\n",
    "        a1= params[\"a1_list\"]\n",
    "        a2 = params[\"a2_list\"]\n",
    "        phi = params[\"phi_list\"]\n",
    "       \n",
    "      \n",
    "#         print(a1_list-a2_list)\n",
    "        index = 0\n",
    "        ind = 0\n",
    "#         print a1\n",
    "        for ind in range(No_):\n",
    "            parms_rhomb1 = [a1[ind], a2[ind], phi[ind]]\n",
    "            latt,a1_,a2_ = lattice(parms_rhomb1)\n",
    "            if i == \"Noise\":\n",
    "                distorted = add_noise(latt)\n",
    "                img_ = atom_to_img(distorted)\n",
    "            elif i == \"Square\" or i == \"Hexagonal\" or i == \"Centred\" or i == \"Obilique\":\n",
    "                distorted = distortions(latt, a1_, a2_)\n",
    "                img_ =np.random.random_integers(500,1024,1)[0]\n",
    "                img_ = atom_to_img(distorted,img_dim =img_)             \n",
    "            else:\n",
    "                distorted = distortions(latt, a1_, a2_)\n",
    "                img_1 =np.random.random_integers(500,1024,1)[0]\n",
    "                img_2  = img_1 + np.random.random_integers(-100,100,1)[0]\n",
    "                if  np.abs(img_1-img_2)<10 and (img_2>1024):\n",
    "                    img_2  = img_1 + np.random.random_integers(-100,100,1)[0]\n",
    "                img_ = atom_to_img(distorted,img_dim_1 = img_1,img_dim_2 =img_2)\n",
    "            size = 5\n",
    "            \n",
    "            convolved_img = convolve_atomic_img(img_, sigma = size)\n",
    "#             convolved_img = img_\n",
    "            if (i == \"Square\" or i == \"Hexagonal\" or i == \"Centred\") and img_.shape[0]>700:\n",
    "                convolved_img_cropped = convolved_img[img_.shape[0]//2-350:img_.shape[0]//2, img_.shape[0]//2-350:img_.shape[0]//2]\n",
    "            elif img_.shape[0]<700 or img_.shape[1]<700  :\n",
    "                min_size = min(img_.shape[0],img_.shape[1])\n",
    "                convolved_img_cropped = convolved_img[:min_size,:min_size]\n",
    "            else :\n",
    "                convolved_img_cropped = convolved_img[350:700,350:700]\n",
    "            \n",
    "           #Calcualte the fft window\n",
    "            n = convolved_img_cropped.shape[0]\n",
    "            h = hamming(n) \n",
    "            ham2d = np.sqrt(np.outer(h,h)) \n",
    "\n",
    "           #Apply window\n",
    "            img_windowed = np.copy(convolved_img_cropped)\n",
    "            img_windowed *= ham2d \n",
    "\n",
    "           #Do the fft and append result\n",
    "            img_fft = np.fft.fftshift(np.fft.fft2(img_windowed))\n",
    "            img_fft = img_fft[convolved_img_cropped.shape[0]//2 - fft_win_size//2:convolved_img_cropped.shape[0]//2+fft_win_size//2,\n",
    "                                     convolved_img_cropped.shape[0]//2 - fft_win_size//2:convolved_img_cropped.shape[0]//2+fft_win_size//2]\n",
    "            img_ffts.append((img_fft,parms_rhomb1))\n",
    "        for img in img_ffts:\n",
    "            final_img = np.sqrt(np.abs(img[0]))\n",
    "            if os.path.exists(directory+i) == False:\n",
    "                    os.makedirs(directory+i)\n",
    "            plt.imsave(directory+i+'/'+str(index)+'.png', final_img, format='png')\n",
    "            index+=1\n",
    "\n",
    "\n",
    "        "
   ]
  },
  {
   "cell_type": "code",
   "execution_count": 14,
   "metadata": {},
   "outputs": [
    {
     "name": "stdout",
     "output_type": "stream",
     "text": [
      "Current_Structure:Rectangular\n"
     ]
    },
    {
     "name": "stderr",
     "output_type": "stream",
     "text": [
      "/home/anmesh/.conda/envs/crystal/lib/python3.7/site-packages/ipykernel_launcher.py:31: DeprecationWarning: This function is deprecated. Please call randint(500, 1024 + 1) instead\n",
      "/home/anmesh/.conda/envs/crystal/lib/python3.7/site-packages/ipykernel_launcher.py:32: DeprecationWarning: This function is deprecated. Please call randint(-100, 100 + 1) instead\n"
     ]
    },
    {
     "name": "stdout",
     "output_type": "stream",
     "text": [
      "Current_Structure:Hexagonal\n"
     ]
    },
    {
     "name": "stderr",
     "output_type": "stream",
     "text": [
      "/home/anmesh/.conda/envs/crystal/lib/python3.7/site-packages/ipykernel_launcher.py:27: DeprecationWarning: This function is deprecated. Please call randint(500, 1024 + 1) instead\n"
     ]
    },
    {
     "name": "stdout",
     "output_type": "stream",
     "text": [
      "Current_Structure:Centred\n",
      "Current_Structure:Square\n",
      "Current_Structure:Obilique\n",
      "[1.54976786 1.48868698 0.98250412 1.2306842  0.68144794 1.42433284\n",
      " 0.55959406 1.46714828 1.35813778 1.55468038 1.03892863 1.2820316\n",
      " 1.47021491 0.50484114 1.53202602 0.89154773 1.37143804 1.31928104\n",
      " 0.87181546 0.81026888 0.68172973 1.27657095 0.77895478 1.48936066\n",
      " 1.43286909 0.74038591 1.48423949 0.85735933 0.61898906 1.26285817\n",
      " 0.72252341 0.76881043 1.03737913 1.19336518 1.53939377 0.69561098\n",
      " 1.34095631 1.43697073 1.44420459 0.68043375 1.33642928 1.47158649\n",
      " 0.73565751 1.39337331 0.78901876 1.36271066 0.97973014 1.48323276\n",
      " 1.45487027 0.97211169 2.0392703  2.0677981  2.29294137 2.16802058\n",
      " 1.73108016 2.248966   2.24505463 1.71157074 1.8917146  1.84355267\n",
      " 1.99981039 1.93608951 2.35651154 1.76916101 1.79112189 1.81151705\n",
      " 1.74337742 1.600388   2.33926269 2.11818756 2.21682098 2.29721907\n",
      " 1.94347406 1.93964035 1.77303411 2.36587555 2.35728791 2.06424721\n",
      " 2.4110462  1.80659443 1.85234531 2.36268579 1.63455581 2.12758092\n",
      " 2.20622342 1.68620906 1.79027459 1.72823641 2.39206226 2.39269017\n",
      " 2.07178184 2.20612108 1.78706934 1.79970103 2.33398714 1.92803013\n",
      " 2.20612858 1.91840361 1.96466322 1.63467235]\n",
      "Current_Structure:Noise\n"
     ]
    }
   ],
   "source": [
    "save_img(100)"
   ]
  },
  {
   "cell_type": "code",
   "execution_count": 15,
   "metadata": {},
   "outputs": [
    {
     "name": "stderr",
     "output_type": "stream",
     "text": [
      "Processing <PIL.Image.Image image mode=RGBA size=128x128 at 0x7FB910562EB8>:   1%|▏         | 4/300 [00:00<00:37,  7.83 Samples/s]                "
     ]
    },
    {
     "name": "stdout",
     "output_type": "stream",
     "text": [
      "Initialised with 100 image(s) found.\n",
      "Output directory set to ./data_str/Square/output."
     ]
    },
    {
     "name": "stderr",
     "output_type": "stream",
     "text": [
      "Processing <PIL.PngImagePlugin.PngImageFile image mode=RGBA size=128x128 at 0x7FB9104949E8>: 100%|██████████| 300/300 [00:00<00:00, 371.86 Samples/s]\n",
      "Processing <PIL.PngImagePlugin.PngImageFile image mode=RGBA size=128x128 at 0x7FB9105C4DA0>:   2%|▏         | 5/300 [00:00<00:37,  7.80 Samples/s]"
     ]
    },
    {
     "name": "stdout",
     "output_type": "stream",
     "text": [
      "Initialised with 100 image(s) found.\n",
      "Output directory set to ./data_str/Noise/output."
     ]
    },
    {
     "name": "stderr",
     "output_type": "stream",
     "text": [
      "Processing <PIL.Image.Image image mode=RGBA size=128x128 at 0x7FB9104DAA20>: 100%|██████████| 300/300 [00:00<00:00, 341.35 Samples/s]               \n",
      "Processing <PIL.PngImagePlugin.PngImageFile image mode=RGBA size=128x128 at 0x7FB91058B2E8>:   1%|          | 2/300 [00:00<00:35,  8.50 Samples/s]"
     ]
    },
    {
     "name": "stdout",
     "output_type": "stream",
     "text": [
      "Initialised with 100 image(s) found.\n",
      "Output directory set to ./data_str/Hexagonal/output."
     ]
    },
    {
     "name": "stderr",
     "output_type": "stream",
     "text": [
      "Processing <PIL.Image.Image image mode=RGBA size=128x128 at 0x7FB9105CE630>: 100%|██████████| 300/300 [00:00<00:00, 340.05 Samples/s]               \n",
      "Processing <PIL.Image.Image image mode=RGBA size=128x128 at 0x7FB910521518>:   2%|▏         | 6/300 [00:00<00:08, 33.86 Samples/s]                "
     ]
    },
    {
     "name": "stdout",
     "output_type": "stream",
     "text": [
      "Initialised with 100 image(s) found.\n",
      "Output directory set to ./data_str/Obilique/output."
     ]
    },
    {
     "name": "stderr",
     "output_type": "stream",
     "text": [
      "Processing <PIL.Image.Image image mode=RGBA size=128x128 at 0x7FB910581DD8>: 100%|██████████| 300/300 [00:00<00:00, 363.28 Samples/s]               \n",
      "Processing <PIL.Image.Image image mode=RGBA size=128x128 at 0x7FB9105B5DD8>:   1%|▏         | 4/300 [00:00<00:16, 18.10 Samples/s]                "
     ]
    },
    {
     "name": "stdout",
     "output_type": "stream",
     "text": [
      "Initialised with 100 image(s) found.\n",
      "Output directory set to ./data_str/Centred/output."
     ]
    },
    {
     "name": "stderr",
     "output_type": "stream",
     "text": [
      "Processing <PIL.Image.Image image mode=RGBA size=128x128 at 0x7FB9105B5EF0>: 100%|██████████| 300/300 [00:00<00:00, 336.04 Samples/s]               \n",
      "Processing <PIL.PngImagePlugin.PngImageFile image mode=RGBA size=128x128 at 0x7FB910592EB8>:   1%|▏         | 4/300 [00:00<00:30,  9.86 Samples/s]"
     ]
    },
    {
     "name": "stdout",
     "output_type": "stream",
     "text": [
      "Initialised with 100 image(s) found.\n",
      "Output directory set to ./data_str/Rectangular/output."
     ]
    },
    {
     "name": "stderr",
     "output_type": "stream",
     "text": [
      "Processing <PIL.Image.Image image mode=RGBA size=128x128 at 0x7FB910531588>: 100%|██████████| 300/300 [00:00<00:00, 377.56 Samples/s]               \n"
     ]
    }
   ],
   "source": [
    "import Augmentor\n",
    "##No of Augmented Images  per class\n",
    "n = 50\n",
    "for dir in os.listdir(\"./data_str/\"):\n",
    "    p= Augmentor.Pipeline(\"./data_str/\"+dir)\n",
    "    p.rotate(probability=0.7, max_left_rotation=20, max_right_rotation=20)\n",
    "#     p.zoom(probability=0.5, min_factor=1.1, max_factor=1.8)\n",
    "    n = 300\n",
    "    num_of_samples = int(n)\n",
    "    p.sample(num_of_samples)"
   ]
  },
  {
   "cell_type": "code",
   "execution_count": 51,
   "metadata": {},
   "outputs": [
    {
     "name": "stdout",
     "output_type": "stream",
     "text": [
      "Initialised with 10 image(s) found.\n",
      "Output directory set to ./data_str/Square/output."
     ]
    }
   ],
   "source": [
    "p= Augmentor.Pipeline(\"./data_str/Square/\")"
   ]
  },
  {
   "cell_type": "code",
   "execution_count": 54,
   "metadata": {},
   "outputs": [
    {
     "name": "stderr",
     "output_type": "stream",
     "text": [
      "/home/anmesh/.conda/envs/crystal/lib/python3.7/site-packages/ipykernel_launcher.py:1: DeprecationWarning: This function is deprecated. Please call randint(1024, 2816 + 1) instead\n",
      "  \"\"\"Entry point for launching an IPython kernel.\n"
     ]
    },
    {
     "data": {
      "text/plain": [
       "array([2778])"
      ]
     },
     "execution_count": 54,
     "metadata": {},
     "output_type": "execute_result"
    }
   ],
   "source": [
    "np.random.random_integers(1024,2816,1)"
   ]
  },
  {
   "cell_type": "code",
   "execution_count": 53,
   "metadata": {},
   "outputs": [],
   "source": []
  },
  {
   "cell_type": "code",
   "execution_count": 57,
   "metadata": {},
   "outputs": [],
   "source": [
    "num_of_samples = int(100)\n"
   ]
  },
  {
   "cell_type": "code",
   "execution_count": 58,
   "metadata": {},
   "outputs": [
    {
     "name": "stderr",
     "output_type": "stream",
     "text": [
      "Processing <PIL.Image.Image image mode=RGBA size=64x64 at 0x7F2911C47C50>: 100%|██████████| 100/100 [00:00<00:00, 639.40 Samples/s]              \n"
     ]
    }
   ],
   "source": [
    "p.sample(num_of_samples)"
   ]
  },
  {
   "cell_type": "code",
   "execution_count": 59,
   "metadata": {},
   "outputs": [
    {
     "data": {
      "text/plain": [
       "<Augmentor.Pipeline.Pipeline at 0x7f291246d080>"
      ]
     },
     "execution_count": 59,
     "metadata": {},
     "output_type": "execute_result"
    }
   ],
   "source": [
    "p"
   ]
  },
  {
   "cell_type": "code",
   "execution_count": null,
   "metadata": {},
   "outputs": [],
   "source": []
  }
 ],
 "metadata": {
  "kernelspec": {
   "display_name": "Python 3",
   "language": "python",
   "name": "python3"
  },
  "language_info": {
   "codemirror_mode": {
    "name": "ipython",
    "version": 3
   },
   "file_extension": ".py",
   "mimetype": "text/x-python",
   "name": "python",
   "nbconvert_exporter": "python",
   "pygments_lexer": "ipython3",
   "version": "3.7.3"
  }
 },
 "nbformat": 4,
 "nbformat_minor": 2
}
