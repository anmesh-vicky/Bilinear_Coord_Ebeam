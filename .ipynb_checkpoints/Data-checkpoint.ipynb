{
 "cells": [
  {
   "cell_type": "code",
   "execution_count": 1,
   "metadata": {},
   "outputs": [],
   "source": [
    "import numpy as np\n",
    "import matplotlib.pyplot as plt\n",
    "from scipy.ndimage import gaussian_filter\n",
    "from scipy.signal import hamming"
   ]
  },
  {
   "cell_type": "code",
   "execution_count": 2,
   "metadata": {},
   "outputs": [],
   "source": [
    "def add_noise(atom_positions):\n",
    "\n",
    "    \"\"\"\n",
    "    This function generates data for the noise class.\n",
    "\n",
    "    Parameters\n",
    "    -----------\n",
    "    atom_positions: array\n",
    "        Array of atom_positions\n",
    "    \n",
    "    Returns\n",
    "    -----------\n",
    "    distorted: array\n",
    "        Array of atoms positions after the noise has been added\n",
    "    \"\"\"\n",
    "    noise = np.random.randn(atom_positions.shape[0], atom_positions.shape[1])\n",
    "    return atom_positions+noise\n",
    "\n",
    "def distortions(atom_positions, a1, a2, distortion_factor = 0.03):\n",
    "    \n",
    "    \"\"\"\n",
    "    This function adds distortions to the atom positions along the 'a1' lattice parameter.\n",
    "\n",
    "    Parameters\n",
    "    -----------\n",
    "    atom_positions: array\n",
    "        Array of atom_positions\n",
    "    a1: float \n",
    "        The lattice parameter a1\n",
    "    a2: float\n",
    "        The lattice parameter a2\n",
    "    distortion_factor: float\n",
    "        The percentage by which the length between atoms has to be change\n",
    "    \n",
    "    Returns\n",
    "    -----------\n",
    "    distorted: array\n",
    "        Array of atoms positions after the distortions\n",
    "    \"\"\"\n",
    "    \n",
    "    x_dis = np.random.normal(loc = 0.0, scale = distortion_factor*a1, size = None)\n",
    "    y_dis = np.random.normal(loc = 0.0, scale = distortion_factor*a2, size = None)\n",
    "#     print('XDIS YDIS', x_dis, y_dis)\n",
    "    distorted = np.full(atom_positions.shape, fill_value=[x_dis, y_dis], dtype=float)\n",
    "#     print(\"Before Distortion\\n\",atom_positions)\n",
    "#     print('ATOM+DIS \\n', atom_positions+distorted)\n",
    "    return distorted+ atom_positions\n",
    "def lattice(parms,nxx=25, nyy = 25):\n",
    "    \n",
    "    \"\"\"Function that creates an oblique lattice\n",
    "    Inputs: - parms:  3x1 vector with parameters [a1,a2,phi]\n",
    "                      where a1 is the first lattice parameter, a2 is the second\n",
    "                      and phi is the angle between the two vectors in radians\n",
    "            - nxx: (optional), int, number of unit cells repeated in the x direction\n",
    "            - nyy: (optional), int, number of unit cells repeated in the y direction\n",
    "    \n",
    "    Output: atom_positions: Numpy Matrix of size (nxx*nyy,2)\"\"\"\n",
    "   \n",
    "     \n",
    "    a1 = parms[0]\n",
    "    a2 = parms[1]\n",
    "    phi = parms[2]\n",
    "\n",
    "    #Create lattice\n",
    "\n",
    "    nx,ny = np.meshgrid(np.arange(nxx), np.arange(nyy))\n",
    "\n",
    "    atom_pos = []\n",
    "    for nxx, nyy in zip(nx.ravel(),ny.ravel()):\n",
    "        x_ind = nxx * a1 + nyy * a2 * np.cos(phi)\n",
    "        y_ind = nyy * a2 * np.sin(phi)\n",
    "\n",
    "        atom_pos.append((x_ind,y_ind))\n",
    "\n",
    "    return np.array(atom_pos),a1 ,a2\n",
    "\n",
    "\n",
    "def atom_to_img(atom_pos,img_dim = 1024, img_dim_1 = None,img_dim_2 = None):\n",
    "    \"\"\"Function that takes a list of atomic positions and converts them to an\n",
    "    image\n",
    "    Inputs: - atom_pos: output matrix of size (Nx2) with (x,y) coordinates of \n",
    "                        atoms in the lattice.\n",
    "            - img_dim: (optional), int, size of image. Square images only.\n",
    "            \n",
    "    Output: atom_positions: Numpy Matrix of size (nxx*nyy,2)\"\"\"\n",
    "    if img_dim_1:\n",
    "        image_atoms = np.zeros((img_dim_1,img_dim_2))\n",
    "    else:\n",
    "        image_atoms = np.zeros((img_dim,img_dim))\n",
    "    \n",
    "    max_x = np.max(atom_pos[:,0])\n",
    "    max_y = np.max(atom_pos[:,1])\n",
    "\n",
    "    min_x = np.min(atom_pos[:,0])\n",
    "    min_y = np.min(atom_pos[:,1])\n",
    "    \n",
    "    for ind in range(atom_pos.shape[0]):\n",
    "        max_val = max(max_x, max_y)\n",
    "        min_val = min(min_x, min_y)\n",
    "        \n",
    "        x1,y1 = atom_pos[ind,0], atom_pos[ind,1]\n",
    "        if img_dim_1:\n",
    "            x_img = int((x1 - min_val)/(max_val - min_val) * (img_dim_1-1)) #are we placing the images only at the integer coordinates?\n",
    "            y_img = int((y1-min_val)/(max_val - min_val) * (img_dim_2-1))\n",
    "        else:    \n",
    "            x_img = int((x1 - min_val)/(max_val - min_val) * (img_dim-1)) #are we placing the images only at the integer coordinates?\n",
    "            y_img = int((y1-min_val)/(max_val - min_val) * (img_dim-1))\n",
    "\n",
    "        image_atoms[x_img, y_img]=1E6 #Place an intense point in the image at \n",
    "                                      #that atomic site\n",
    "        \n",
    "    return image_atoms\n",
    "\n",
    "def convolve_atomic_img(image_atoms, sigma = 6):\n",
    "# \"\"\"Convolve input image with gaussian filter.\n",
    "#   Input: - image_atoms: 2D Numpy Array\n",
    "#          - sigma: int, optional, std. dev. of Gaussian\n",
    "#   Output: - filtered_image: 2D Numpy array, same size as input image\"\"\"\n",
    "  \n",
    "    return gaussian_filter(image_atoms,sigma,order = 0)"
   ]
  },
  {
   "cell_type": "code",
   "execution_count": 3,
   "metadata": {},
   "outputs": [],
   "source": [
    "####function that Genrates Images for differnet classes\n",
    "def Params(Structure ,No_):\n",
    "    if Structure == \"Square\":\n",
    "        a1_list = np.random.uniform(low = 0.8, high =2.2,size = No_)\n",
    "        a2_list = a1_list\n",
    "        phi_list = np.random.uniform(low = np.pi/2, high = np.pi/2, size = No_)\n",
    "    elif Structure == \"Rectangular\":\n",
    "        a1_list = np.random.uniform(low = 1, high = 2.2,size = No_)\n",
    "        a2_list = a1_list\n",
    "        phi_list = np.random.uniform(low = np.pi/2, high = np.pi/2, size = No_)\n",
    "        ######\n",
    "    elif Structure == \"Hexagonal\":# fix\n",
    "        a1_list = np.random.uniform(low = 0.8, high = 2.2,size = No_)\n",
    "        a2_list = a1_list\n",
    "        phi_list = np.random.uniform(low = np.pi/3, high = np.pi/3, size = No_)\n",
    "    elif Structure == \"Centred\":\n",
    "        a1_list = np.random.uniform(low = 0.8, high = 2.2,size = No_)\n",
    "        a2_list = a1_list\n",
    "        phi_list = np.random.uniform(low = 1, high = np.pi/2-1e-3, size = No_//2)\n",
    "        phi_list = np.append(phi_list,np.random.uniform(low = np.pi/2+1e-3, high = 2.1 , size = No_//2))\n",
    "    elif Structure == \"Noise\":      \n",
    "        a1_list = np.random.uniform(low = 0.8, high = 2.2,size = No_)\n",
    "        a2_list = np.random.uniform(low = 0.8, high = 2.1, size=No_)\n",
    "        phi_list = np.random.uniform(low = 1, high = np.pi/2-1e-1, size = No_//2)\n",
    "        phi_list = np.append(phi_list,np.random.uniform(low = np.pi/2+1e-1, high = np.pi*.8-1e-1, size = No_//2))\n",
    "    elif Structure == \"Obilique\":\n",
    "        a1_list = np.random.uniform(low = 0.8, high = 2.2,size = No_)\n",
    "        a2_list = a1_list\n",
    "        phi_list = np.random.uniform(low = .5, high = np.pi/2-1e-3, size = No_//2)\n",
    "        phi_list = np.append(phi_list,np.random.uniform(low = np.pi/2+1e-3, high = np.pi*.8-1e-1, size = No_//2))\n",
    "#         print (phi_list)\n",
    "\n",
    "    P = {\"a1_list\":a1_list,\"a2_list\":a2_list,\"phi_list\":phi_list}\n",
    "    return P\n",
    "####function that Genrates Images for differnet classes\n",
    "def Params(Structure ,No_):\n",
    "    if Structure == \"Square\":\n",
    "        a1_list = np.random.uniform(low = 0.8, high =2.2,size = No_)\n",
    "        a2_list = a1_list\n",
    "        phi_list = np.random.uniform(low = np.pi/2, high = np.pi/2, size = No_)\n",
    "    elif Structure == \"Rectangular\":\n",
    "        a1_list = np.random.uniform(low = 1, high = 2.2,size = No_)\n",
    "        a2_list = a1_list\n",
    "        phi_list = np.random.uniform(low = np.pi/2, high = np.pi/2, size = No_)\n",
    "        ######\n",
    "    elif Structure == \"Hexagonal\":# fix\n",
    "        a1_list = np.random.uniform(low = 0.8, high = 2.2,size = No_)\n",
    "        a2_list = a1_list\n",
    "        phi_list = np.random.uniform(low = np.pi/3, high = np.pi/3, size = No_)\n",
    "    elif Structure == \"Centred\":\n",
    "        a1_list = np.random.uniform(low = 0.8, high = 2.2,size = No_)\n",
    "        a2_list = a1_list\n",
    "        phi_list = np.random.uniform(low = 1, high = np.pi/2-1e-3, size = No_//2)\n",
    "        phi_list = np.append(phi_list,np.random.uniform(low = np.pi/2+1e-3, high = 2.1 , size = No_//2))\n",
    "    elif Structure == \"Noise\":      \n",
    "        a1_list = np.random.uniform(low = 0.8, high = 2.2,size = No_)\n",
    "        a2_list = np.random.uniform(low = 0.8, high = 2.1, size=No_)\n",
    "        phi_list = np.random.uniform(low = 1, high = np.pi/2-1e-1, size = No_//2)\n",
    "        phi_list = np.append(phi_list,np.random.uniform(low = np.pi/2+1e-3, high = np.pi*.8-1e-3, size = No_//2))\n",
    "    elif Structure == \"Obilique\":\n",
    "        a1_list = np.random.uniform(low = 0.8, high = 2.2,size = No_)\n",
    "        a2_list = a1_list\n",
    "        phi_list = np.random.uniform(low = .5, high = np.pi/2-1e-3, size = No_//2)\n",
    "        phi_list = np.append(phi_list,np.random.uniform(low = np.pi/2+1e-3, high = np.pi*.8-1e-3, size = No_//2))\n",
    "#         print (phi_list)\n",
    "\n",
    "    P = {\"a1_list\":a1_list,\"a2_list\":a2_list,\"phi_list\":phi_list}\n",
    "    return P\n"
   ]
  },
  {
   "cell_type": "code",
   "execution_count": 4,
   "metadata": {},
   "outputs": [],
   "source": [
    "### data Argumentor #########\n",
    "import os"
   ]
  },
  {
   "cell_type": "code",
   "execution_count": 5,
   "metadata": {},
   "outputs": [],
   "source": [
    "def save_img(No_):\n",
    "    directory = \"./data_str/\"\n",
    "    Struct = [\"Rectangular\",\"Hexagonal\",\"Centred\",\"Square\",\"Obilique\",\"Noise\"]\n",
    "#     Struct = [\"Centred\"]\n",
    "    for i in Struct:\n",
    "        print(\"Current_Structure:\"+i)\n",
    "        img_ffts=[]\n",
    "        fft_win_size = 128\n",
    "        params = Params(i,No_)\n",
    "        a1= params[\"a1_list\"]\n",
    "        a2 = params[\"a2_list\"]\n",
    "        phi = params[\"phi_list\"]\n",
    "       \n",
    "      \n",
    "#         print(a1_list-a2_list)\n",
    "        index = 0\n",
    "        ind = 0\n",
    "#         print a1\n",
    "        for ind in range(No_):\n",
    "            parms_rhomb1 = [a1[ind], a2[ind], phi[ind]]\n",
    "            latt,a1_,a2_ = lattice(parms_rhomb1)\n",
    "            if i == \"Noise\":\n",
    "                distorted = add_noise(latt)\n",
    "                img_ = atom_to_img(distorted)\n",
    "            elif i == \"Square\" or i == \"Hexagonal\" or i == \"Centred\":\n",
    "                distorted = distortions(latt, a1_, a2_)\n",
    "                img_ =np.random.random_integers(500,1024,1)[0]\n",
    "                img_ = atom_to_img(distorted,img_dim =img_)             \n",
    "            else:\n",
    "                distorted = distortions(latt, a1_, a2_)\n",
    "                img_1 =np.random.random_integers(500,1024,1)[0]\n",
    "                img_2  = img_1 + np.random.random_integers(-200,200,1)[0]\n",
    "                if  np.abs(img_1-img_2)<10 and (img_2>1024):\n",
    "                    img_2  = img_1 + np.random.random_integers(-100,100,1)[0]\n",
    "                img_ = atom_to_img(distorted,img_dim_1 = img_1,img_dim_2 =img_2)\n",
    "            size = np.random.randint(low = 3, high = 7, size = 1)[0] \n",
    "            \n",
    "            convolved_img = convolve_atomic_img(img_, sigma = size)\n",
    "#             convolved_img = img_\n",
    "            if (i == \"Square\" or i == \"Hexagonal\" or i == \"Centred\") and img_.shape[0]>700:\n",
    "                convolved_img_cropped = convolved_img[img_.shape[0]//2-350:img_.shape[0]//2, img_.shape[0]//2-350:img_.shape[0]//2]\n",
    "            elif img_.shape[0]<700 or img_.shape[1]<700  :\n",
    "                min_size = min(img_.shape[0],img_.shape[1])\n",
    "                convolved_img_cropped = convolved_img[:min_size,:min_size]\n",
    "            else :\n",
    "                convolved_img_cropped = convolved_img[350:700,350:700]\n",
    "            \n",
    "           #Calcualte the fft window\n",
    "            n = convolved_img_cropped.shape[0]\n",
    "            h = hamming(n) \n",
    "            ham2d = np.sqrt(np.outer(h,h)) \n",
    "\n",
    "           #Apply window\n",
    "            img_windowed = np.copy(convolved_img_cropped)\n",
    "            img_windowed *= ham2d \n",
    "\n",
    "           #Do the fft and append result\n",
    "            img_fft = np.fft.fftshift(np.fft.fft2(img_windowed))\n",
    "            img_fft = img_fft[convolved_img_cropped.shape[0]//2 - fft_win_size//2:convolved_img_cropped.shape[0]//2+fft_win_size//2,\n",
    "                                     convolved_img_cropped.shape[0]//2 - fft_win_size//2:convolved_img_cropped.shape[0]//2+fft_win_size//2]\n",
    "            img_ffts.append((img_fft,parms_rhomb1))\n",
    "        for img in img_ffts:\n",
    "            final_img = np.sqrt(np.abs(img[0]))\n",
    "            if os.path.exists(directory+i) == False:\n",
    "                    os.makedirs(directory+i)\n",
    "            plt.imsave(directory+i+'/'+str(index)+'.png', final_img, format='png')\n",
    "            index+=1\n",
    "\n",
    "\n",
    "        "
   ]
  },
  {
   "cell_type": "code",
   "execution_count": null,
   "metadata": {},
   "outputs": [
    {
     "name": "stdout",
     "output_type": "stream",
     "text": [
      "Current_Structure:Rectangular\n"
     ]
    },
    {
     "name": "stderr",
     "output_type": "stream",
     "text": [
      "/data/anaconda/envs/crystal/lib/python3.6/site-packages/ipykernel_launcher.py:31: DeprecationWarning: This function is deprecated. Please call randint(500, 1024 + 1) instead\n",
      "/data/anaconda/envs/crystal/lib/python3.6/site-packages/ipykernel_launcher.py:32: DeprecationWarning: This function is deprecated. Please call randint(-200, 200 + 1) instead\n",
      "/data/anaconda/envs/crystal/lib/python3.6/site-packages/ipykernel_launcher.py:34: DeprecationWarning: This function is deprecated. Please call randint(-100, 100 + 1) instead\n"
     ]
    },
    {
     "name": "stdout",
     "output_type": "stream",
     "text": [
      "Current_Structure:Hexagonal\n"
     ]
    },
    {
     "name": "stderr",
     "output_type": "stream",
     "text": [
      "/data/anaconda/envs/crystal/lib/python3.6/site-packages/ipykernel_launcher.py:27: DeprecationWarning: This function is deprecated. Please call randint(500, 1024 + 1) instead\n"
     ]
    }
   ],
   "source": [
    "save_img(6000)"
   ]
  },
  {
   "cell_type": "code",
   "execution_count": 1,
   "metadata": {},
   "outputs": [],
   "source": [
    "import split_folders\n",
    "split_folders.ratio('./data_str', output=\"./data\", seed=1337, ratio=(.70, .15, .15)) # default values"
   ]
  },
  {
   "cell_type": "code",
   "execution_count": 2,
   "metadata": {},
   "outputs": [
    {
     "name": "stderr",
     "output_type": "stream",
     "text": [
      "\r",
      "Executing Pipeline:   0%|          | 0/4200 [00:00<?, ? Samples/s]"
     ]
    },
    {
     "name": "stdout",
     "output_type": "stream",
     "text": [
      "Initialised with 4200 image(s) found.\n",
      "Output directory set to ./data/train/Rectangular/output."
     ]
    },
    {
     "name": "stderr",
     "output_type": "stream",
     "text": [
      "Processing <PIL.Image.Image image mode=RGBA size=128x128 at 0x7F88D877C6A0>:  96%|█████████▌| 4041/4200 [00:08<00:00, 1297.28 Samples/s]                IOPub message rate exceeded.\n",
      "The notebook server will temporarily stop sending output\n",
      "to the client in order to avoid crashing it.\n",
      "To change this limit, set the config variable\n",
      "`--NotebookApp.iopub_msg_rate_limit`.\n",
      "\n",
      "Current values:\n",
      "NotebookApp.iopub_msg_rate_limit=1000.0 (msgs/sec)\n",
      "NotebookApp.rate_limit_window=3.0 (secs)\n",
      "\n",
      "Processing <PIL.Image.Image image mode=RGBA size=128x128 at 0x7F88D838A240>: 100%|██████████| 4200/4200 [00:07<00:00, 560.83 Samples/s]                 \n",
      "Executing Pipeline:   0%|          | 0/4200 [00:00<?, ? Samples/s]"
     ]
    },
    {
     "name": "stdout",
     "output_type": "stream",
     "text": [
      "Initialised with 4200 image(s) found.\n",
      "Output directory set to ./data/train/Square/output."
     ]
    },
    {
     "name": "stderr",
     "output_type": "stream",
     "text": [
      "Processing <PIL.Image.Image image mode=RGBA size=128x128 at 0x7F88F8228438>:  32%|███▏      | 1336/4200 [00:04<01:39, 28.86 Samples/s]                IOPub message rate exceeded.\n",
      "The notebook server will temporarily stop sending output\n",
      "to the client in order to avoid crashing it.\n",
      "To change this limit, set the config variable\n",
      "`--NotebookApp.iopub_msg_rate_limit`.\n",
      "\n",
      "Current values:\n",
      "NotebookApp.iopub_msg_rate_limit=1000.0 (msgs/sec)\n",
      "NotebookApp.rate_limit_window=3.0 (secs)\n",
      "\n",
      "Processing <PIL.PngImagePlugin.PngImageFile image mode=RGBA size=128x128 at 0x7F88D844D898>: 100%|██████████| 4200/4200 [00:09<00:00, 451.10 Samples/s] \n",
      "Executing Pipeline:   0%|          | 0/4200 [00:00<?, ? Samples/s]"
     ]
    },
    {
     "name": "stdout",
     "output_type": "stream",
     "text": [
      "Initialised with 4200 image(s) found.\n",
      "Output directory set to ./data/train/Centred/output."
     ]
    },
    {
     "name": "stderr",
     "output_type": "stream",
     "text": [
      "Processing <PIL.PngImagePlugin.PngImageFile image mode=RGBA size=128x128 at 0x7F88F8330DA0>:  73%|███████▎  | 3086/4200 [00:06<00:00, 1340.84 Samples/s]IOPub message rate exceeded.\n",
      "The notebook server will temporarily stop sending output\n",
      "to the client in order to avoid crashing it.\n",
      "To change this limit, set the config variable\n",
      "`--NotebookApp.iopub_msg_rate_limit`.\n",
      "\n",
      "Current values:\n",
      "NotebookApp.iopub_msg_rate_limit=1000.0 (msgs/sec)\n",
      "NotebookApp.rate_limit_window=3.0 (secs)\n",
      "\n",
      "Processing <PIL.Image.Image image mode=RGBA size=128x128 at 0x7F88D8557978>: 100%|██████████| 4200/4200 [00:07<00:00, 569.74 Samples/s]                 \n",
      "Executing Pipeline:   0%|          | 0/4200 [00:00<?, ? Samples/s]"
     ]
    },
    {
     "name": "stdout",
     "output_type": "stream",
     "text": [
      "Initialised with 4200 image(s) found.\n",
      "Output directory set to ./data/train/Hexagonal/output."
     ]
    },
    {
     "name": "stderr",
     "output_type": "stream",
     "text": [
      "Processing <PIL.Image.Image image mode=RGBA size=128x128 at 0x7F88D87E6780>:  73%|███████▎  | 3076/4200 [00:06<00:00, 1407.24 Samples/s]                IOPub message rate exceeded.\n",
      "The notebook server will temporarily stop sending output\n",
      "to the client in order to avoid crashing it.\n",
      "To change this limit, set the config variable\n",
      "`--NotebookApp.iopub_msg_rate_limit`.\n",
      "\n",
      "Current values:\n",
      "NotebookApp.iopub_msg_rate_limit=1000.0 (msgs/sec)\n",
      "NotebookApp.rate_limit_window=3.0 (secs)\n",
      "\n",
      "Processing <PIL.Image.Image image mode=RGBA size=128x128 at 0x7F88F80E82B0>: 100%|██████████| 4200/4200 [00:07<00:00, 565.98 Samples/s]                 \n",
      "Executing Pipeline:   0%|          | 0/4200 [00:00<?, ? Samples/s]"
     ]
    },
    {
     "name": "stdout",
     "output_type": "stream",
     "text": [
      "Initialised with 4200 image(s) found.\n",
      "Output directory set to ./data/train/Obilique/output."
     ]
    },
    {
     "name": "stderr",
     "output_type": "stream",
     "text": [
      "Processing <PIL.PngImagePlugin.PngImageFile image mode=RGBA size=128x128 at 0x7F88F859E908>:  71%|███████   | 2984/4200 [00:06<00:03, 319.10 Samples/s]IOPub message rate exceeded.\n",
      "The notebook server will temporarily stop sending output\n",
      "to the client in order to avoid crashing it.\n",
      "To change this limit, set the config variable\n",
      "`--NotebookApp.iopub_msg_rate_limit`.\n",
      "\n",
      "Current values:\n",
      "NotebookApp.iopub_msg_rate_limit=1000.0 (msgs/sec)\n",
      "NotebookApp.rate_limit_window=3.0 (secs)\n",
      "\n",
      "Processing <PIL.Image.Image image mode=RGBA size=128x128 at 0x7F88D87660B8>: 100%|██████████| 4200/4200 [00:07<00:00, 569.21 Samples/s]                 \n",
      "Processing <PIL.Image.Image image mode=RGBA size=128x128 at 0x7F893800F198>:   0%|          | 0/900 [00:00<?, ? Samples/s]"
     ]
    },
    {
     "name": "stdout",
     "output_type": "stream",
     "text": [
      "Initialised with 900 image(s) found.\n",
      "Output directory set to ./data/test/Rectangular/output."
     ]
    },
    {
     "name": "stderr",
     "output_type": "stream",
     "text": [
      "Processing <PIL.PngImagePlugin.PngImageFile image mode=RGBA size=128x128 at 0x7F88F818C828>: 100%|██████████| 900/900 [00:01<00:00, 565.15 Samples/s]\n",
      "Processing <PIL.Image.Image image mode=RGBA size=128x128 at 0x7F88D87B94A8>:   0%|          | 0/900 [00:00<?, ? Samples/s]"
     ]
    },
    {
     "name": "stdout",
     "output_type": "stream",
     "text": [
      "Initialised with 900 image(s) found.\n",
      "Output directory set to ./data/test/Noise/output."
     ]
    },
    {
     "name": "stderr",
     "output_type": "stream",
     "text": [
      "Processing <PIL.Image.Image image mode=RGBA size=128x128 at 0x7F89380DC3C8>: 100%|██████████| 900/900 [00:01<00:00, 572.54 Samples/s]               \n",
      "Processing <PIL.Image.Image image mode=RGBA size=128x128 at 0x7F88D8694AC8>:   0%|          | 0/900 [00:00<?, ? Samples/s]"
     ]
    },
    {
     "name": "stdout",
     "output_type": "stream",
     "text": [
      "Initialised with 900 image(s) found.\n",
      "Output directory set to ./data/test/Square/output."
     ]
    },
    {
     "name": "stderr",
     "output_type": "stream",
     "text": [
      "Processing <PIL.Image.Image image mode=RGBA size=128x128 at 0x7F88D86B7E48>: 100%|██████████| 900/900 [00:01<00:00, 587.06 Samples/s]               \n",
      "Executing Pipeline:   0%|          | 0/900 [00:00<?, ? Samples/s]"
     ]
    },
    {
     "name": "stdout",
     "output_type": "stream",
     "text": [
      "Initialised with 900 image(s) found.\n",
      "Output directory set to ./data/test/Centred/output."
     ]
    },
    {
     "name": "stderr",
     "output_type": "stream",
     "text": [
      "Processing <PIL.Image.Image image mode=RGBA size=128x128 at 0x7F88F821A860>: 100%|██████████| 900/900 [00:01<00:00, 565.16 Samples/s]               \n",
      "Processing <PIL.Image.Image image mode=RGBA size=128x128 at 0x7F88D871B940>:   0%|          | 1/900 [00:00<02:55,  5.14 Samples/s]"
     ]
    },
    {
     "name": "stdout",
     "output_type": "stream",
     "text": [
      "Initialised with 900 image(s) found.\n",
      "Output directory set to ./data/test/Hexagonal/output."
     ]
    },
    {
     "name": "stderr",
     "output_type": "stream",
     "text": [
      "Processing <PIL.Image.Image image mode=RGBA size=128x128 at 0x7F88D8526160>: 100%|██████████| 900/900 [00:01<00:00, 556.11 Samples/s]               \n",
      "Executing Pipeline:   0%|          | 0/900 [00:00<?, ? Samples/s]"
     ]
    },
    {
     "name": "stdout",
     "output_type": "stream",
     "text": [
      "Initialised with 900 image(s) found.\n",
      "Output directory set to ./data/test/Obilique/output."
     ]
    },
    {
     "name": "stderr",
     "output_type": "stream",
     "text": [
      "Processing <PIL.PngImagePlugin.PngImageFile image mode=RGBA size=128x128 at 0x7F88F834EBE0>: 100%|██████████| 900/900 [00:01<00:00, 566.68 Samples/s]\n",
      "Executing Pipeline:   0%|          | 0/900 [00:00<?, ? Samples/s]"
     ]
    },
    {
     "name": "stdout",
     "output_type": "stream",
     "text": [
      "Initialised with 900 image(s) found.\n",
      "Output directory set to ./data/val/Rectangular/output."
     ]
    },
    {
     "name": "stderr",
     "output_type": "stream",
     "text": [
      "Processing <PIL.Image.Image image mode=RGBA size=128x128 at 0x7F88F85E94E0>: 100%|██████████| 900/900 [00:01<00:00, 562.78 Samples/s]               \n",
      "Executing Pipeline:   0%|          | 0/900 [00:00<?, ? Samples/s]"
     ]
    },
    {
     "name": "stdout",
     "output_type": "stream",
     "text": [
      "Initialised with 900 image(s) found.\n",
      "Output directory set to ./data/val/Noise/output."
     ]
    },
    {
     "name": "stderr",
     "output_type": "stream",
     "text": [
      "Processing <PIL.Image.Image image mode=RGBA size=128x128 at 0x7F88D85625F8>: 100%|██████████| 900/900 [00:01<00:00, 550.58 Samples/s]               \n",
      "Processing <PIL.Image.Image image mode=RGBA size=128x128 at 0x7F88F845A588>:   0%|          | 0/900 [00:00<?, ? Samples/s]"
     ]
    },
    {
     "name": "stdout",
     "output_type": "stream",
     "text": [
      "Initialised with 900 image(s) found.\n",
      "Output directory set to ./data/val/Square/output."
     ]
    },
    {
     "name": "stderr",
     "output_type": "stream",
     "text": [
      "Processing <PIL.Image.Image image mode=RGBA size=128x128 at 0x7F88F82A0518>: 100%|██████████| 900/900 [00:01<00:00, 576.21 Samples/s]               \n",
      "Executing Pipeline:   0%|          | 0/900 [00:00<?, ? Samples/s]"
     ]
    },
    {
     "name": "stdout",
     "output_type": "stream",
     "text": [
      "Initialised with 900 image(s) found.\n",
      "Output directory set to ./data/val/Centred/output."
     ]
    },
    {
     "name": "stderr",
     "output_type": "stream",
     "text": [
      "Processing <PIL.Image.Image image mode=RGBA size=128x128 at 0x7F88F83137B8>: 100%|██████████| 900/900 [00:01<00:00, 555.40 Samples/s]               \n",
      "Executing Pipeline:   0%|          | 0/900 [00:00<?, ? Samples/s]"
     ]
    },
    {
     "name": "stdout",
     "output_type": "stream",
     "text": [
      "Initialised with 900 image(s) found.\n",
      "Output directory set to ./data/val/Hexagonal/output."
     ]
    },
    {
     "name": "stderr",
     "output_type": "stream",
     "text": [
      "Processing <PIL.Image.Image image mode=RGBA size=128x128 at 0x7F88F8313BE0>: 100%|██████████| 900/900 [00:01<00:00, 555.94 Samples/s]               \n",
      "Processing <PIL.Image.Image image mode=RGBA size=128x128 at 0x7F88F834E588>:   0%|          | 0/900 [00:00<?, ? Samples/s]"
     ]
    },
    {
     "name": "stdout",
     "output_type": "stream",
     "text": [
      "Initialised with 900 image(s) found.\n",
      "Output directory set to ./data/val/Obilique/output."
     ]
    },
    {
     "name": "stderr",
     "output_type": "stream",
     "text": [
      "Processing <PIL.Image.Image image mode=RGBA size=128x128 at 0x7F88F81EDDA0>: 100%|██████████| 900/900 [00:01<00:00, 558.63 Samples/s]               \n"
     ]
    }
   ],
   "source": [
    "import Augmentor\n",
    "import shutil\n",
    "##No of Augmented Images  per class\n",
    "import os\n",
    "n=50\n",
    "No_train = 6000*.7  \n",
    "No_test = 6000*.15\n",
    "No_val = 6000*.15\n",
    "directory = [\"train/\",\"test/\",\"val/\"]\n",
    "base = \"./data/\"\n",
    "for loc in directory:\n",
    "    if loc ==\"train/\":\n",
    "        n = No_train\n",
    "    elif loc ==\"test/\":\n",
    "        n = No_test\n",
    "    else:\n",
    "        n = No_val\n",
    "    for dir in os.listdir(base+loc):\n",
    "        p= Augmentor.Pipeline(base+loc+dir)\n",
    "        p.rotate(probability=0.7, max_left_rotation=20, max_right_rotation=20)\n",
    "        num_of_samples = int(n)\n",
    "        p.sample(num_of_samples)\n",
    "        \n",
    "        src_files = os.listdir(base+loc+dir+\"/output\")\n",
    "        src = base+loc+dir+\"/output\"\n",
    "        for file_name in src_files:\n",
    "            full_file_name = os.path.join(src, file_name)\n",
    "            shutil.copy(full_file_name, base+loc+dir)\n",
    "\n",
    "        shutil.rmtree(base+loc+dir+\"/output\")      "
   ]
  },
  {
   "cell_type": "code",
   "execution_count": null,
   "metadata": {},
   "outputs": [],
   "source": []
  }
 ],
 "metadata": {
  "kernelspec": {
   "display_name": "Python 3",
   "language": "python",
   "name": "python3"
  },
  "language_info": {
   "codemirror_mode": {
    "name": "ipython",
    "version": 3
   },
   "file_extension": ".py",
   "mimetype": "text/x-python",
   "name": "python",
   "nbconvert_exporter": "python",
   "pygments_lexer": "ipython3",
   "version": "3.6.8"
  }
 },
 "nbformat": 4,
 "nbformat_minor": 2
}
