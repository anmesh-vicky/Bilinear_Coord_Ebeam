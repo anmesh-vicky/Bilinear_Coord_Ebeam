{
 "cells": [
  {
   "cell_type": "code",
   "execution_count": 7,
   "metadata": {},
   "outputs": [],
   "source": [
    "import numpy as np\n",
    "import matplotlib.pyplot as plt\n",
    "from scipy.ndimage import gaussian_filter\n",
    "from scipy.signal import hamming"
   ]
  },
  {
   "cell_type": "code",
   "execution_count": 8,
   "metadata": {},
   "outputs": [],
   "source": [
    "def add_noise(atom_positions):\n",
    "\n",
    "    \"\"\"\n",
    "    This function generates data for the noise class.\n",
    "\n",
    "    Parameters\n",
    "    -----------\n",
    "    atom_positions: array\n",
    "        Array of atom_positions\n",
    "    \n",
    "    Returns\n",
    "    -----------\n",
    "    distorted: array\n",
    "        Array of atoms positions after the noise has been added\n",
    "    \"\"\"\n",
    "    noise = np.random.randn(atom_positions.shape[0], atom_positions.shape[1])\n",
    "    return atom_positions+noise\n",
    "\n",
    "def distortions(atom_positions, a1, a2, distortion_factor = 0.03):\n",
    "    \n",
    "    \"\"\"\n",
    "    This function adds distortions to the atom positions along the 'a1' lattice parameter.\n",
    "\n",
    "    Parameters\n",
    "    -----------\n",
    "    atom_positions: array\n",
    "        Array of atom_positions\n",
    "    a1: float \n",
    "        The lattice parameter a1\n",
    "    a2: float\n",
    "        The lattice parameter a2\n",
    "    distortion_factor: float\n",
    "        The percentage by which the length between atoms has to be change\n",
    "    \n",
    "    Returns\n",
    "    -----------\n",
    "    distorted: array\n",
    "        Array of atoms positions after the distortions\n",
    "    \"\"\"\n",
    "    \n",
    "    x_dis = np.random.normal(loc = 0.0, scale = distortion_factor*a1, size = None)\n",
    "    y_dis = np.random.normal(loc = 0.0, scale = distortion_factor*a2, size = None)\n",
    "#     print('XDIS YDIS', x_dis, y_dis)\n",
    "    distorted = np.full(atom_positions.shape, fill_value=[x_dis, y_dis], dtype=float)\n",
    "#     print(\"Before Distortion\\n\",atom_positions)\n",
    "#     print('ATOM+DIS \\n', atom_positions+distorted)\n",
    "    return distorted+ atom_positions\n",
    "def lattice(parms,nxx=25, nyy = 25):\n",
    "    \n",
    "    \"\"\"Function that creates an oblique lattice\n",
    "    Inputs: - parms:  3x1 vector with parameters [a1,a2,phi]\n",
    "                      where a1 is the first lattice parameter, a2 is the second\n",
    "                      and phi is the angle between the two vectors in radians\n",
    "            - nxx: (optional), int, number of unit cells repeated in the x direction\n",
    "            - nyy: (optional), int, number of unit cells repeated in the y direction\n",
    "    \n",
    "    Output: atom_positions: Numpy Matrix of size (nxx*nyy,2)\"\"\"\n",
    "   \n",
    "     \n",
    "    a1 = parms[0]\n",
    "    a2 = parms[1]\n",
    "    phi = parms[2]\n",
    "\n",
    "    #Create lattice\n",
    "\n",
    "    nx,ny = np.meshgrid(np.arange(nxx), np.arange(nyy))\n",
    "\n",
    "    atom_pos = []\n",
    "    for nxx, nyy in zip(nx.ravel(),ny.ravel()):\n",
    "        x_ind = nxx * a1 + nyy * a2 * np.cos(phi)\n",
    "        y_ind = nyy * a2 * np.sin(phi)\n",
    "\n",
    "        atom_pos.append((x_ind,y_ind))\n",
    "\n",
    "    return np.array(atom_pos),a1 ,a2\n",
    "\n",
    "\n",
    "def atom_to_img(atom_pos,img_dim = 1024, img_dim_1 = None,img_dim_2 = None):\n",
    "    \"\"\"Function that takes a list of atomic positions and converts them to an\n",
    "    image\n",
    "    Inputs: - atom_pos: output matrix of size (Nx2) with (x,y) coordinates of \n",
    "                        atoms in the lattice.\n",
    "            - img_dim: (optional), int, size of image. Square images only.\n",
    "            \n",
    "    Output: atom_positions: Numpy Matrix of size (nxx*nyy,2)\"\"\"\n",
    "    if img_dim_1:\n",
    "        image_atoms = np.zeros((img_dim_1,img_dim_2))\n",
    "    else:\n",
    "        image_atoms = np.zeros((img_dim,img_dim))\n",
    "    \n",
    "    max_x = np.max(atom_pos[:,0])\n",
    "    max_y = np.max(atom_pos[:,1])\n",
    "\n",
    "    min_x = np.min(atom_pos[:,0])\n",
    "    min_y = np.min(atom_pos[:,1])\n",
    "    \n",
    "    for ind in range(atom_pos.shape[0]):\n",
    "        max_val = max(max_x, max_y)\n",
    "        min_val = min(min_x, min_y)\n",
    "        \n",
    "        x1,y1 = atom_pos[ind,0], atom_pos[ind,1]\n",
    "        if img_dim_1:\n",
    "            x_img = int((x1 - min_val)/(max_val - min_val) * (img_dim_1-1)) #are we placing the images only at the integer coordinates?\n",
    "            y_img = int((y1-min_val)/(max_val - min_val) * (img_dim_2-1))\n",
    "        else:    \n",
    "            x_img = int((x1 - min_val)/(max_val - min_val) * (img_dim-1)) #are we placing the images only at the integer coordinates?\n",
    "            y_img = int((y1-min_val)/(max_val - min_val) * (img_dim-1))\n",
    "\n",
    "        image_atoms[x_img, y_img]=1E6 #Place an intense point in the image at \n",
    "                                      #that atomic site\n",
    "        \n",
    "    return image_atoms\n",
    "\n",
    "def convolve_atomic_img(image_atoms, sigma = 6):\n",
    "# \"\"\"Convolve input image with gaussian filter.\n",
    "#   Input: - image_atoms: 2D Numpy Array\n",
    "#          - sigma: int, optional, std. dev. of Gaussian\n",
    "#   Output: - filtered_image: 2D Numpy array, same size as input image\"\"\"\n",
    "  \n",
    "    return gaussian_filter(image_atoms,sigma,order = 0)"
   ]
  },
  {
   "cell_type": "code",
   "execution_count": 9,
   "metadata": {},
   "outputs": [],
   "source": [
    "####function that Genrates Images for differnet classes\n",
    "def Params(Structure ,No_):\n",
    "    if Structure == \"Square\":\n",
    "        a1_list = np.random.uniform(low = 0.8, high =2.2,size = No_)\n",
    "        a2_list = a1_list\n",
    "        phi_list = np.random.uniform(low = np.pi/2, high = np.pi/2, size = No_)\n",
    "    elif Structure == \"Rectangular\":\n",
    "        a1_list = np.random.uniform(low = 1, high = 2.2,size = No_)\n",
    "        a2_list = a1_list\n",
    "        phi_list = np.random.uniform(low = np.pi/2, high = np.pi/2, size = No_)\n",
    "        ######\n",
    "    elif Structure == \"Hexagonal\":# fix\n",
    "        a1_list = np.random.uniform(low = 0.8, high = 2.2,size = No_)\n",
    "        a2_list = a1_list\n",
    "        phi_list = np.random.uniform(low = np.pi/3, high = np.pi/3, size = No_)\n",
    "    elif Structure == \"Centred\":\n",
    "        a1_list = np.random.uniform(low = 0.8, high = 2.2,size = No_)\n",
    "        a2_list = a1_list\n",
    "        phi_list = np.random.uniform(low = 1, high = np.pi/2-1e-3, size = No_//2)\n",
    "        phi_list = np.append(phi_list,np.random.uniform(low = np.pi/2+1e-3, high = 2.1 , size = No_//2))\n",
    "    elif Structure == \"Noise\":      \n",
    "        a1_list = np.random.uniform(low = 0.8, high = 2.2,size = No_)\n",
    "        a2_list = np.random.uniform(low = 0.8, high = 2.1, size=No_)\n",
    "        phi_list = np.random.uniform(low = 1, high = np.pi/2-1e-1, size = No_//2)\n",
    "        phi_list = np.append(phi_list,np.random.uniform(low = np.pi/2+1e-1, high = np.pi*.8-1e-1, size = No_//2))\n",
    "    elif Structure == \"Obilique\":\n",
    "        a1_list = np.random.uniform(low = 0.8, high = 2.2,size = No_)\n",
    "        a2_list = a1_list\n",
    "        phi_list = np.random.uniform(low = .5, high = np.pi/2-1e-3, size = No_//2)\n",
    "        phi_list = np.append(phi_list,np.random.uniform(low = np.pi/2+1e-3, high = np.pi*.8-1e-1, size = No_//2))\n",
    "#         print (phi_list)\n",
    "\n",
    "    P = {\"a1_list\":a1_list,\"a2_list\":a2_list,\"phi_list\":phi_list}\n",
    "    return P\n"
   ]
  },
  {
   "cell_type": "code",
   "execution_count": 10,
   "metadata": {},
   "outputs": [],
   "source": [
    "### data Argumentor #########\n",
    "import os"
   ]
  },
  {
   "cell_type": "code",
   "execution_count": 11,
   "metadata": {},
   "outputs": [],
   "source": [
    "def save_img(No_):\n",
    "    directory = \"./data_str/\"\n",
    "    Struct = [\"Rectangular\",\"Hexagonal\",\"Centred\",\"Square\",\"Obilique\",\"Noise\"]\n",
    "#     Struct = [\"Centred\"]\n",
    "    for i in Struct:\n",
    "        print(\"Current_Structure:\"+i)\n",
    "        img_ffts=[]\n",
    "        fft_win_size = 128\n",
    "        params = Params(i,No_)\n",
    "        a1= params[\"a1_list\"]\n",
    "        a2 = params[\"a2_list\"]\n",
    "        phi = params[\"phi_list\"]\n",
    "       \n",
    "      \n",
    "#         print(a1_list-a2_list)\n",
    "        index = 0\n",
    "        ind = 0\n",
    "#         print a1\n",
    "        for ind in range(No_):\n",
    "            parms_rhomb1 = [a1[ind], a2[ind], phi[ind]]\n",
    "            latt,a1_,a2_ = lattice(parms_rhomb1)\n",
    "            if i == \"Noise\":\n",
    "                distorted = add_noise(latt)\n",
    "                img_ = atom_to_img(distorted)\n",
    "            elif i == \"Square\" or i == \"Hexagonal\" or i == \"Centred\":\n",
    "                distorted = distortions(latt, a1_, a2_)\n",
    "                img_ =np.random.random_integers(500,1024,1)[0]\n",
    "                img_ = atom_to_img(distorted,img_dim =img_)             \n",
    "            else:\n",
    "                distorted = distortions(latt, a1_, a2_)\n",
    "                img_1 =np.random.random_integers(500,1024,1)[0]\n",
    "                img_2  = img_1 + np.random.random_integers(-200,200,1)[0]\n",
    "                if  np.abs(img_1-img_2)<10 and (img_2>1024):\n",
    "                    img_2  = img_1 + np.random.random_integers(-100,100,1)[0]\n",
    "                img_ = atom_to_img(distorted,img_dim_1 = img_1,img_dim_2 =img_2)\n",
    "            size = 5\n",
    "            \n",
    "            convolved_img = convolve_atomic_img(img_, sigma = size)\n",
    "#             convolved_img = img_\n",
    "            if (i == \"Square\" or i == \"Hexagonal\" or i == \"Centred\") and img_.shape[0]>700:\n",
    "                convolved_img_cropped = convolved_img[img_.shape[0]//2-350:img_.shape[0]//2, img_.shape[0]//2-350:img_.shape[0]//2]\n",
    "            elif img_.shape[0]<700 or img_.shape[1]<700  :\n",
    "                min_size = min(img_.shape[0],img_.shape[1])\n",
    "                convolved_img_cropped = convolved_img[:min_size,:min_size]\n",
    "            else :\n",
    "                convolved_img_cropped = convolved_img[350:700,350:700]\n",
    "            \n",
    "           #Calcualte the fft window\n",
    "            n = convolved_img_cropped.shape[0]\n",
    "            h = hamming(n) \n",
    "            ham2d = np.sqrt(np.outer(h,h)) \n",
    "\n",
    "           #Apply window\n",
    "            img_windowed = np.copy(convolved_img_cropped)\n",
    "            img_windowed *= ham2d \n",
    "\n",
    "           #Do the fft and append result\n",
    "            img_fft = np.fft.fftshift(np.fft.fft2(img_windowed))\n",
    "            img_fft = img_fft[convolved_img_cropped.shape[0]//2 - fft_win_size//2:convolved_img_cropped.shape[0]//2+fft_win_size//2,\n",
    "                                     convolved_img_cropped.shape[0]//2 - fft_win_size//2:convolved_img_cropped.shape[0]//2+fft_win_size//2]\n",
    "            img_ffts.append((img_fft,parms_rhomb1))\n",
    "        for img in img_ffts:\n",
    "            final_img = np.sqrt(np.abs(img[0]))\n",
    "            if os.path.exists(directory+i) == False:\n",
    "                    os.makedirs(directory+i)\n",
    "            plt.imsave(directory+i+'/'+str(index)+'.png', final_img, format='png')\n",
    "            index+=1\n",
    "\n",
    "\n",
    "        "
   ]
  },
  {
   "cell_type": "code",
   "execution_count": 12,
   "metadata": {},
   "outputs": [
    {
     "name": "stdout",
     "output_type": "stream",
     "text": [
      "Current_Structure:Rectangular\n"
     ]
    },
    {
     "name": "stderr",
     "output_type": "stream",
     "text": [
      "/home/anmesh/.conda/envs/crystal/lib/python3.7/site-packages/ipykernel_launcher.py:31: DeprecationWarning: This function is deprecated. Please call randint(500, 1024 + 1) instead\n",
      "/home/anmesh/.conda/envs/crystal/lib/python3.7/site-packages/ipykernel_launcher.py:32: DeprecationWarning: This function is deprecated. Please call randint(-200, 200 + 1) instead\n"
     ]
    },
    {
     "name": "stdout",
     "output_type": "stream",
     "text": [
      "Current_Structure:Hexagonal\n"
     ]
    },
    {
     "name": "stderr",
     "output_type": "stream",
     "text": [
      "/home/anmesh/.conda/envs/crystal/lib/python3.7/site-packages/ipykernel_launcher.py:27: DeprecationWarning: This function is deprecated. Please call randint(500, 1024 + 1) instead\n"
     ]
    },
    {
     "name": "stdout",
     "output_type": "stream",
     "text": [
      "Current_Structure:Centred\n",
      "Current_Structure:Square\n",
      "Current_Structure:Obilique\n",
      "Current_Structure:Noise\n"
     ]
    }
   ],
   "source": [
    "save_img(100)"
   ]
  },
  {
   "cell_type": "code",
   "execution_count": 13,
   "metadata": {},
   "outputs": [
    {
     "name": "stderr",
     "output_type": "stream",
     "text": [
      "Copying files: 600 files [00:00, 2709.65 files/s]\n"
     ]
    }
   ],
   "source": [
    "import split_folders\n",
    "split_folders.ratio('./data_str', output=\"./data\", seed=1337, ratio=(.8, .1, .1)) # default values"
   ]
  },
  {
   "cell_type": "code",
   "execution_count": 14,
   "metadata": {},
   "outputs": [
    {
     "name": "stderr",
     "output_type": "stream",
     "text": [
      "Processing <PIL.Image.Image image mode=RGBA size=128x128 at 0x7F7FEC7BE438>:  23%|██▎       | 23/100 [00:00<00:01, 51.86 Samples/s]                "
     ]
    },
    {
     "name": "stdout",
     "output_type": "stream",
     "text": [
      "Initialised with 80 image(s) found.\n",
      "Output directory set to ./data/train/Square/output."
     ]
    },
    {
     "name": "stderr",
     "output_type": "stream",
     "text": [
      "Processing <PIL.Image.Image image mode=RGBA size=128x128 at 0x7F801814C668>: 100%|██████████| 100/100 [00:00<00:00, 441.58 Samples/s]              \n",
      "Processing <PIL.Image.Image image mode=RGBA size=128x128 at 0x7F7FEF83CA20>:  15%|█▌        | 15/100 [00:00<00:01, 57.32 Samples/s]                "
     ]
    },
    {
     "name": "stdout",
     "output_type": "stream",
     "text": [
      "Initialised with 80 image(s) found.\n",
      "Output directory set to ./data/train/Noise/output."
     ]
    },
    {
     "name": "stderr",
     "output_type": "stream",
     "text": [
      "Processing <PIL.PngImagePlugin.PngImageFile image mode=RGBA size=128x128 at 0x7F7FEC786908>: 100%|██████████| 100/100 [00:00<00:00, 431.02 Samples/s]\n",
      "Processing <PIL.Image.Image image mode=RGBA size=128x128 at 0x7F7FEC7DCB00>:   7%|▋         | 7/100 [00:00<00:01, 48.49 Samples/s]                "
     ]
    },
    {
     "name": "stdout",
     "output_type": "stream",
     "text": [
      "Initialised with 80 image(s) found.\n",
      "Output directory set to ./data/train/Hexagonal/output."
     ]
    },
    {
     "name": "stderr",
     "output_type": "stream",
     "text": [
      "Processing <PIL.Image.Image image mode=RGBA size=128x128 at 0x7F7FEF89C978>: 100%|██████████| 100/100 [00:00<00:00, 383.30 Samples/s]              \n",
      "Processing <PIL.Image.Image image mode=RGBA size=128x128 at 0x7F7FEF83CE48>:   8%|▊         | 8/100 [00:00<00:02, 45.74 Samples/s]                "
     ]
    },
    {
     "name": "stdout",
     "output_type": "stream",
     "text": [
      "Initialised with 80 image(s) found.\n",
      "Output directory set to ./data/train/Obilique/output."
     ]
    },
    {
     "name": "stderr",
     "output_type": "stream",
     "text": [
      "Processing <PIL.Image.Image image mode=RGBA size=128x128 at 0x7F7FEF89C320>: 100%|██████████| 100/100 [00:00<00:00, 413.48 Samples/s]              \n",
      "Processing <PIL.Image.Image image mode=RGBA size=128x128 at 0x7F7FEF824438>:   7%|▋         | 7/100 [00:00<00:01, 48.34 Samples/s]                "
     ]
    },
    {
     "name": "stdout",
     "output_type": "stream",
     "text": [
      "Initialised with 80 image(s) found.\n",
      "Output directory set to ./data/train/Centred/output."
     ]
    },
    {
     "name": "stderr",
     "output_type": "stream",
     "text": [
      "Processing <PIL.Image.Image image mode=RGBA size=128x128 at 0x7F7FEF8240F0>: 100%|██████████| 100/100 [00:00<00:00, 403.73 Samples/s]              \n",
      "Processing <PIL.Image.Image image mode=RGBA size=128x128 at 0x7F7FEF824588>:  26%|██▌       | 26/100 [00:00<00:01, 39.63 Samples/s]                "
     ]
    },
    {
     "name": "stdout",
     "output_type": "stream",
     "text": [
      "Initialised with 80 image(s) found.\n",
      "Output directory set to ./data/train/Rectangular/output."
     ]
    },
    {
     "name": "stderr",
     "output_type": "stream",
     "text": [
      "Processing <PIL.PngImagePlugin.PngImageFile image mode=RGBA size=128x128 at 0x7F7FEF824710>: 100%|██████████| 100/100 [00:00<00:00, 434.51 Samples/s]\n",
      "Processing <PIL.Image.Image image mode=RGBA size=128x128 at 0x7F7FEC7EBB38>: 100%|██████████| 10/10 [00:00<00:00, 352.60 Samples/s]               \n",
      "Processing <PIL.Image.Image image mode=RGBA size=128x128 at 0x7F7FEF89C860>: 100%|██████████| 10/10 [00:00<00:00, 391.34 Samples/s]               \n",
      "Processing <PIL.Image.Image image mode=RGBA size=128x128 at 0x7F7FEC7EBC88>: 100%|██████████| 10/10 [00:00<00:00, 317.32 Samples/s]               \n",
      "Processing <PIL.Image.Image image mode=RGBA size=128x128 at 0x7F7FEF89C978>: 100%|██████████| 10/10 [00:00<00:00, 420.20 Samples/s]               \n",
      "Processing <PIL.Image.Image image mode=RGBA size=128x128 at 0x7F7FEC7EB588>: 100%|██████████| 10/10 [00:00<00:00, 367.62 Samples/s]              \n",
      "Processing <PIL.Image.Image image mode=RGBA size=128x128 at 0x7F7FEF89C978>: 100%|██████████| 10/10 [00:00<00:00, 525.84 Samples/s]               \n",
      "Processing <PIL.Image.Image image mode=RGBA size=128x128 at 0x7F7FEC7EBBE0>:  10%|█         | 1/10 [00:00<00:00, 65.12 Samples/s]"
     ]
    },
    {
     "name": "stdout",
     "output_type": "stream",
     "text": [
      "Initialised with 10 image(s) found.\n",
      "Output directory set to ./data/test/Square/output.Initialised with 10 image(s) found.\n",
      "Output directory set to ./data/test/Noise/output.Initialised with 10 image(s) found.\n",
      "Output directory set to ./data/test/Hexagonal/output.Initialised with 10 image(s) found.\n",
      "Output directory set to ./data/test/Obilique/output.Initialised with 10 image(s) found.\n",
      "Output directory set to ./data/test/Centred/output.Initialised with 10 image(s) found.\n",
      "Output directory set to ./data/test/Rectangular/output.Initialised with 10 image(s) found.\n",
      "Output directory set to ./data/val/Square/output."
     ]
    },
    {
     "name": "stderr",
     "output_type": "stream",
     "text": [
      "Processing <PIL.PngImagePlugin.PngImageFile image mode=RGBA size=128x128 at 0x7F7FEF89C780>: 100%|██████████| 10/10 [00:00<00:00, 450.86 Samples/s]\n",
      "Processing <PIL.Image.Image image mode=RGBA size=128x128 at 0x7F7FEC7EBA90>: 100%|██████████| 10/10 [00:00<00:00, 489.08 Samples/s]               \n",
      "Processing <PIL.Image.Image image mode=RGBA size=128x128 at 0x7F7FEC7EBD68>: 100%|██████████| 10/10 [00:00<00:00, 405.00 Samples/s]               \n",
      "Processing <PIL.Image.Image image mode=RGBA size=128x128 at 0x7F7FEF89CFD0>: 100%|██████████| 10/10 [00:00<00:00, 372.02 Samples/s]               \n",
      "Processing <PIL.Image.Image image mode=RGBA size=128x128 at 0x7F7FEC7EBAC8>: 100%|██████████| 10/10 [00:00<00:00, 456.37 Samples/s]               \n",
      "Processing <PIL.Image.Image image mode=RGBA size=128x128 at 0x7F7FEF89CDD8>: 100%|██████████| 10/10 [00:00<00:00, 460.57 Samples/s]               "
     ]
    },
    {
     "name": "stdout",
     "output_type": "stream",
     "text": [
      "Initialised with 10 image(s) found.\n",
      "Output directory set to ./data/val/Noise/output.Initialised with 10 image(s) found.\n",
      "Output directory set to ./data/val/Hexagonal/output.Initialised with 10 image(s) found.\n",
      "Output directory set to ./data/val/Obilique/output.Initialised with 10 image(s) found.\n",
      "Output directory set to ./data/val/Centred/output.Initialised with 10 image(s) found.\n",
      "Output directory set to ./data/val/Rectangular/output."
     ]
    },
    {
     "name": "stderr",
     "output_type": "stream",
     "text": [
      "\n"
     ]
    }
   ],
   "source": [
    "import Augmentor\n",
    "import shutil\n",
    "##No of Augmented Images  per class\n",
    "import os\n",
    "n = 50\n",
    "No_train = 100\n",
    "No_test = 10\n",
    "No_val = 10\n",
    "directory = [\"train/\",\"test/\",\"val/\"]\n",
    "base = \"./data/\"\n",
    "for loc in directory:\n",
    "    if loc ==\"train/\":\n",
    "        n = No_train\n",
    "    elif loc ==\"test/\":\n",
    "        n = No_test\n",
    "    else:\n",
    "        n = No_val\n",
    "    for dir in os.listdir(base+loc):\n",
    "        p= Augmentor.Pipeline(base+loc+dir)\n",
    "        p.rotate(probability=0.7, max_left_rotation=20, max_right_rotation=20)\n",
    "        num_of_samples = int(n)\n",
    "        p.sample(num_of_samples)\n",
    "        \n",
    "        src_files = os.listdir(base+loc+dir+\"/output\")\n",
    "        src = base+loc+dir+\"/output\"\n",
    "        for file_name in src_files:\n",
    "            full_file_name = os.path.join(src, file_name)\n",
    "            shutil.copy(full_file_name, base+loc+dir)\n",
    "\n",
    "        shutil.rmtree(base+loc+dir+\"/output\")       "
   ]
  },
  {
   "cell_type": "code",
   "execution_count": null,
   "metadata": {},
   "outputs": [],
   "source": []
  }
 ],
 "metadata": {
  "kernelspec": {
   "display_name": "Python 3",
   "language": "python",
   "name": "python3"
  },
  "language_info": {
   "codemirror_mode": {
    "name": "ipython",
    "version": 3
   },
   "file_extension": ".py",
   "mimetype": "text/x-python",
   "name": "python",
   "nbconvert_exporter": "python",
   "pygments_lexer": "ipython3",
   "version": "3.7.3"
  }
 },
 "nbformat": 4,
 "nbformat_minor": 2
}
