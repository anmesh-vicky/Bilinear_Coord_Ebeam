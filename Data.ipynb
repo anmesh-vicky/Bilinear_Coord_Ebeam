{
 "cells": [
  {
   "cell_type": "code",
   "execution_count": 9,
   "metadata": {},
   "outputs": [],
   "source": [
    "import numpy as np\n",
    "import matplotlib.pyplot as plt\n",
    "from scipy.ndimage import gaussian_filter\n",
    "from scipy.signal import hamming"
   ]
  },
  {
   "cell_type": "code",
   "execution_count": 10,
   "metadata": {},
   "outputs": [],
   "source": [
    "def add_noise(atom_positions):\n",
    "\n",
    "    \"\"\"\n",
    "    This function generates data for the noise class.\n",
    "\n",
    "    Parameters\n",
    "    -----------\n",
    "    atom_positions: array\n",
    "        Array of atom_positions\n",
    "    \n",
    "    Returns\n",
    "    -----------\n",
    "    distorted: array\n",
    "        Array of atoms positions after the noise has been added\n",
    "    \"\"\"\n",
    "    noise = np.random.randn(atom_positions.shape[0], atom_positions.shape[1])\n",
    "    return atom_positions+noise\n",
    "\n",
    "def distortions(atom_positions, a1, a2, distortion_factor = 0.03):\n",
    "    \n",
    "    \"\"\"\n",
    "    This function adds distortions to the atom positions along the 'a1' lattice parameter.\n",
    "\n",
    "    Parameters\n",
    "    -----------\n",
    "    atom_positions: array\n",
    "        Array of atom_positions\n",
    "    a1: float \n",
    "        The lattice parameter a1\n",
    "    a2: float\n",
    "        The lattice parameter a2\n",
    "    distortion_factor: float\n",
    "        The percentage by which the length between atoms has to be change\n",
    "    \n",
    "    Returns\n",
    "    -----------\n",
    "    distorted: array\n",
    "        Array of atoms positions after the distortions\n",
    "    \"\"\"\n",
    "    \n",
    "    x_dis = np.random.normal(loc = 0.0, scale = distortion_factor*a1, size = None)\n",
    "    y_dis = np.random.normal(loc = 0.0, scale = distortion_factor*a2, size = None)\n",
    "#     print('XDIS YDIS', x_dis, y_dis)\n",
    "    distorted = np.full(atom_positions.shape, fill_value=[x_dis, y_dis], dtype=float)\n",
    "#     print(\"Before Distortion\\n\",atom_positions)\n",
    "#     print('ATOM+DIS \\n', atom_positions+distorted)\n",
    "    return distorted+ atom_positions\n",
    "def lattice(parms,nxx=25, nyy = 25):\n",
    "    \n",
    "    \"\"\"Function that creates an oblique lattice\n",
    "    Inputs: - parms:  3x1 vector with parameters [a1,a2,phi]\n",
    "                      where a1 is the first lattice parameter, a2 is the second\n",
    "                      and phi is the angle between the two vectors in radians\n",
    "            - nxx: (optional), int, number of unit cells repeated in the x direction\n",
    "            - nyy: (optional), int, number of unit cells repeated in the y direction\n",
    "    \n",
    "    Output: atom_positions: Numpy Matrix of size (nxx*nyy,2)\"\"\"\n",
    "   \n",
    "     \n",
    "    a1 = parms[0]\n",
    "    a2 = parms[1]\n",
    "    phi = parms[2]\n",
    "\n",
    "    #Create lattice\n",
    "\n",
    "    nx,ny = np.meshgrid(np.arange(nxx), np.arange(nyy))\n",
    "\n",
    "    atom_pos = []\n",
    "    for nxx, nyy in zip(nx.ravel(),ny.ravel()):\n",
    "        x_ind = nxx * a1 + nyy * a2 * np.cos(phi)\n",
    "        y_ind = nyy * a2 * np.sin(phi)\n",
    "\n",
    "        atom_pos.append((x_ind,y_ind))\n",
    "\n",
    "    return np.array(atom_pos),a1 ,a2\n",
    "\n",
    "\n",
    "def atom_to_img(atom_pos,img_dim = 1024, img_dim_1 = None,img_dim_2 = None):\n",
    "    \"\"\"Function that takes a list of atomic positions and converts them to an\n",
    "    image\n",
    "    Inputs: - atom_pos: output matrix of size (Nx2) with (x,y) coordinates of \n",
    "                        atoms in the lattice.\n",
    "            - img_dim: (optional), int, size of image. Square images only.\n",
    "            \n",
    "    Output: atom_positions: Numpy Matrix of size (nxx*nyy,2)\"\"\"\n",
    "    if img_dim_1:\n",
    "        image_atoms = np.zeros((img_dim_1,img_dim_2))\n",
    "    else:\n",
    "        image_atoms = np.zeros((img_dim,img_dim))\n",
    "    \n",
    "    max_x = np.max(atom_pos[:,0])\n",
    "    max_y = np.max(atom_pos[:,1])\n",
    "\n",
    "    min_x = np.min(atom_pos[:,0])\n",
    "    min_y = np.min(atom_pos[:,1])\n",
    "    \n",
    "    for ind in range(atom_pos.shape[0]):\n",
    "        max_val = max(max_x, max_y)\n",
    "        min_val = min(min_x, min_y)\n",
    "        \n",
    "        x1,y1 = atom_pos[ind,0], atom_pos[ind,1]\n",
    "        if img_dim_1:\n",
    "            x_img = int((x1 - min_val)/(max_val - min_val) * (img_dim_1-1)) #are we placing the images only at the integer coordinates?\n",
    "            y_img = int((y1-min_val)/(max_val - min_val) * (img_dim_2-1))\n",
    "        else:    \n",
    "            x_img = int((x1 - min_val)/(max_val - min_val) * (img_dim-1)) #are we placing the images only at the integer coordinates?\n",
    "            y_img = int((y1-min_val)/(max_val - min_val) * (img_dim-1))\n",
    "\n",
    "        image_atoms[x_img, y_img]=1E6 #Place an intense point in the image at \n",
    "                                      #that atomic site\n",
    "        \n",
    "    return image_atoms\n",
    "\n",
    "def convolve_atomic_img(image_atoms, sigma = 6):\n",
    "# \"\"\"Convolve input image with gaussian filter.\n",
    "#   Input: - image_atoms: 2D Numpy Array\n",
    "#          - sigma: int, optional, std. dev. of Gaussian\n",
    "#   Output: - filtered_image: 2D Numpy array, same size as input image\"\"\"\n",
    "  \n",
    "    return gaussian_filter(image_atoms,sigma,order = 0)"
   ]
  },
  {
   "cell_type": "code",
   "execution_count": 23,
   "metadata": {},
   "outputs": [],
   "source": [
    "####function that Genrates Images for differnet classes\n",
    "def Params(Structure ,No_):\n",
    "    if Structure == \"Square\":\n",
    "        a1_list = np.random.uniform(low = 0.8, high =2.2,size = No_)\n",
    "        a2_list = a1_list\n",
    "        phi_list = np.random.uniform(low = np.pi/2, high = np.pi/2, size = No_)\n",
    "    elif Structure == \"Rectangular\":\n",
    "        a1_list = np.random.uniform(low = 1, high = 2.2,size = No_)\n",
    "        a2_list = a1_list\n",
    "        phi_list = np.random.uniform(low = np.pi/2, high = np.pi/2, size = No_)\n",
    "        ######\n",
    "    elif Structure == \"Hexagonal\":# fix\n",
    "        a1_list = np.random.uniform(low = 0.8, high = 2.2,size = No_)\n",
    "        a2_list = a1_list\n",
    "        phi_list = np.random.uniform(low = np.pi/3, high = np.pi/3, size = No_)\n",
    "    elif Structure == \"Centred\":\n",
    "        a1_list = np.random.uniform(low = 0.8, high = 2.2,size = No_)\n",
    "        a2_list = a1_list\n",
    "        phi_list = np.random.uniform(low = 1, high = np.pi/2-1e-3, size = No_//2)\n",
    "        phi_list = np.append(phi_list,np.random.uniform(low = np.pi/2+1e-3, high = 2.1 , size = No_//2))\n",
    "    elif Structure == \"Noise\":      \n",
    "        a1_list = np.random.uniform(low = 0.8, high = 2.2,size = No_)\n",
    "        a2_list = np.random.uniform(low = 0.8, high = 2.1, size=No_)\n",
    "        phi_list = np.random.uniform(low = 1, high = np.pi/2-1e-1, size = No_//2)\n",
    "        phi_list = np.append(phi_list,np.random.uniform(low = np.pi/2+1e-1, high = np.pi*.8-1e-1, size = No_//2))\n",
    "    elif Structure == \"Obilique\":\n",
    "        a1_list = np.random.uniform(low = 0.8, high = 2.2,size = No_)\n",
    "        a2_list = a1_list\n",
    "        phi_list = np.random.uniform(low = .5, high = np.pi/2-1e-3, size = No_//2)\n",
    "        phi_list = np.append(phi_list,np.random.uniform(low = np.pi/2+1e-3, high = np.pi*.8-1e-1, size = No_//2))\n",
    "#         print (phi_list)\n",
    "\n",
    "    P = {\"a1_list\":a1_list,\"a2_list\":a2_list,\"phi_list\":phi_list}\n",
    "    return P\n"
   ]
  },
  {
   "cell_type": "code",
   "execution_count": 24,
   "metadata": {},
   "outputs": [],
   "source": [
    "### data Argumentor #########\n",
    "import os"
   ]
  },
  {
   "cell_type": "code",
   "execution_count": 27,
   "metadata": {},
   "outputs": [],
   "source": [
    "def save_img(No_):\n",
    "    directory = \"./data_str/\"\n",
    "    Struct = [\"Rectangular\",\"Hexagonal\",\"Centred\",\"Square\",\"Obilique\",\"Noise\"]\n",
    "#     Struct = [\"Centred\"]\n",
    "    for i in Struct:\n",
    "        print(\"Current_Structure:\"+i)\n",
    "        img_ffts=[]\n",
    "        fft_win_size = 128\n",
    "        params = Params(i,No_)\n",
    "        a1= params[\"a1_list\"]\n",
    "        a2 = params[\"a2_list\"]\n",
    "        phi = params[\"phi_list\"]\n",
    "       \n",
    "      \n",
    "#         print(a1_list-a2_list)\n",
    "        index = 0\n",
    "        ind = 0\n",
    "#         print a1\n",
    "        for ind in range(No_):\n",
    "            parms_rhomb1 = [a1[ind], a2[ind], phi[ind]]\n",
    "            latt,a1_,a2_ = lattice(parms_rhomb1)\n",
    "            if i == \"Noise\":\n",
    "                distorted = add_noise(latt)\n",
    "                img_ = atom_to_img(distorted)\n",
    "            elif i == \"Square\" or i == \"Hexagonal\" or i == \"Centred\":\n",
    "                distorted = distortions(latt, a1_, a2_)\n",
    "                img_ =np.random.random_integers(500,1024,1)[0]\n",
    "                img_ = atom_to_img(distorted,img_dim =img_)             \n",
    "            else:\n",
    "                distorted = distortions(latt, a1_, a2_)\n",
    "                img_1 =np.random.random_integers(500,1024,1)[0]\n",
    "                img_2  = img_1 + np.random.random_integers(-100,100,1)[0]\n",
    "                if  np.abs(img_1-img_2)<10 and (img_2>1024):\n",
    "                    img_2  = img_1 + np.random.random_integers(-100,100,1)[0]\n",
    "                img_ = atom_to_img(distorted,img_dim_1 = img_1,img_dim_2 =img_2)\n",
    "            size = 3\n",
    "            \n",
    "            convolved_img = convolve_atomic_img(img_, sigma = size)\n",
    "#             convolved_img = img_\n",
    "            if (i == \"Square\" or i == \"Hexagonal\" or i == \"Centred\") and img_.shape[0]>700:\n",
    "                convolved_img_cropped = convolved_img[img_.shape[0]//2-350:img_.shape[0]//2, img_.shape[0]//2-350:img_.shape[0]//2]\n",
    "            elif img_.shape[0]<700 or img_.shape[1]<700  :\n",
    "                min_size = min(img_.shape[0],img_.shape[1])\n",
    "                convolved_img_cropped = convolved_img[:min_size,:min_size]\n",
    "            else :\n",
    "                convolved_img_cropped = convolved_img[350:700,350:700]\n",
    "            \n",
    "           #Calcualte the fft window\n",
    "            n = convolved_img_cropped.shape[0]\n",
    "            h = hamming(n) \n",
    "            ham2d = np.sqrt(np.outer(h,h)) \n",
    "\n",
    "           #Apply window\n",
    "            img_windowed = np.copy(convolved_img_cropped)\n",
    "            img_windowed *= ham2d \n",
    "\n",
    "           #Do the fft and append result\n",
    "            img_fft = np.fft.fftshift(np.fft.fft2(img_windowed))\n",
    "            img_fft = img_fft[convolved_img_cropped.shape[0]//2 - fft_win_size//2:convolved_img_cropped.shape[0]//2+fft_win_size//2,\n",
    "                                     convolved_img_cropped.shape[0]//2 - fft_win_size//2:convolved_img_cropped.shape[0]//2+fft_win_size//2]\n",
    "            img_ffts.append((img_fft,parms_rhomb1))\n",
    "        for img in img_ffts:\n",
    "            final_img = np.sqrt(np.abs(img[0]))\n",
    "            if os.path.exists(directory+i) == False:\n",
    "                    os.makedirs(directory+i)\n",
    "            plt.imsave(directory+i+'/'+str(index)+'.png', final_img, format='png')\n",
    "            index+=1\n",
    "\n",
    "\n",
    "        "
   ]
  },
  {
   "cell_type": "code",
   "execution_count": 28,
   "metadata": {},
   "outputs": [
    {
     "name": "stdout",
     "output_type": "stream",
     "text": [
      "Current_Structure:Rectangular\n"
     ]
    },
    {
     "name": "stderr",
     "output_type": "stream",
     "text": [
      "/home/anmesh/.conda/envs/crystal/lib/python3.7/site-packages/ipykernel_launcher.py:31: DeprecationWarning: This function is deprecated. Please call randint(500, 1024 + 1) instead\n",
      "/home/anmesh/.conda/envs/crystal/lib/python3.7/site-packages/ipykernel_launcher.py:32: DeprecationWarning: This function is deprecated. Please call randint(-100, 100 + 1) instead\n"
     ]
    },
    {
     "name": "stdout",
     "output_type": "stream",
     "text": [
      "Current_Structure:Hexagonal\n"
     ]
    },
    {
     "name": "stderr",
     "output_type": "stream",
     "text": [
      "/home/anmesh/.conda/envs/crystal/lib/python3.7/site-packages/ipykernel_launcher.py:27: DeprecationWarning: This function is deprecated. Please call randint(500, 1024 + 1) instead\n"
     ]
    },
    {
     "name": "stdout",
     "output_type": "stream",
     "text": [
      "Current_Structure:Centred\n",
      "Current_Structure:Square\n",
      "Current_Structure:Obilique\n",
      "[1.52542469 0.81107465 1.38539486 1.28732982 0.58132845 0.61352595\n",
      " 1.21616583 0.93345714 0.74531441 1.03022888 0.82980952 1.53811685\n",
      " 1.3081144  0.98648103 0.56822797 0.95359566 0.90744383 0.53657349\n",
      " 0.8991902  0.57621373 1.30948241 1.282454   0.85185414 0.63499657\n",
      " 1.31924256 1.03283342 1.56918569 1.52218958 1.05116622 0.62833082\n",
      " 1.49018614 1.03398113 1.3719771  0.73460476 1.42661751 1.2580732\n",
      " 1.08793927 1.09485206 0.77476077 0.7995041  0.61731207 0.86526232\n",
      " 1.49760905 0.74378428 1.39158561 1.40959742 0.69561493 0.68088438\n",
      " 1.19748995 1.54723445 2.32230856 2.16858753 2.16857332 2.37566723\n",
      " 2.2339629  1.94298007 1.61439722 2.29127164 1.66516577 1.90182275\n",
      " 1.66215298 1.70152684 2.40530013 1.73601971 2.23903064 1.62526714\n",
      " 2.07279775 2.16020853 2.13917482 1.92361156 2.04262875 2.15246529\n",
      " 1.79569275 1.59622004 2.17966403 2.06642463 2.20184114 1.96999549\n",
      " 2.14796839 1.94987646 1.5996761  2.07346429 1.73469075 2.29374938\n",
      " 2.11818512 2.23533758 1.60555028 1.82049947 2.02170949 2.18095834\n",
      " 2.00593813 2.28253946 1.98731406 2.19814959 1.6941691  2.30618584\n",
      " 1.75033414 1.61933175 1.83496749 2.38683553]\n",
      "Current_Structure:Noise\n"
     ]
    }
   ],
   "source": [
    "save_img(100)"
   ]
  },
  {
   "cell_type": "code",
   "execution_count": 20,
   "metadata": {},
   "outputs": [
    {
     "name": "stderr",
     "output_type": "stream",
     "text": [
      "Processing <PIL.PngImagePlugin.PngImageFile image mode=RGBA size=128x128 at 0x7FB91057AC88>:   2%|▏         | 6/300 [00:00<00:10, 28.68 Samples/s]"
     ]
    },
    {
     "name": "stdout",
     "output_type": "stream",
     "text": [
      "Initialised with 100 image(s) found.\n",
      "Output directory set to ./data_str/Square/output."
     ]
    },
    {
     "name": "stderr",
     "output_type": "stream",
     "text": [
      "Processing <PIL.Image.Image image mode=RGBA size=128x128 at 0x7FB91267C390>: 100%|██████████| 300/300 [00:00<00:00, 384.33 Samples/s]               \n",
      "Processing <PIL.PngImagePlugin.PngImageFile image mode=RGBA size=128x128 at 0x7FB9126160B8>:   2%|▏         | 5/300 [00:00<00:29,  9.97 Samples/s]"
     ]
    },
    {
     "name": "stdout",
     "output_type": "stream",
     "text": [
      "Initialised with 100 image(s) found.\n",
      "Output directory set to ./data_str/Noise/output."
     ]
    },
    {
     "name": "stderr",
     "output_type": "stream",
     "text": [
      "Processing <PIL.PngImagePlugin.PngImageFile image mode=RGBA size=128x128 at 0x7FB910531978>: 100%|██████████| 300/300 [00:00<00:00, 348.55 Samples/s]\n",
      "Processing <PIL.Image.Image image mode=RGBA size=128x128 at 0x7FB910528668>:   2%|▏         | 6/300 [00:00<00:11, 26.22 Samples/s]                "
     ]
    },
    {
     "name": "stdout",
     "output_type": "stream",
     "text": [
      "Initialised with 100 image(s) found.\n",
      "Output directory set to ./data_str/Hexagonal/output."
     ]
    },
    {
     "name": "stderr",
     "output_type": "stream",
     "text": [
      "Processing <PIL.Image.Image image mode=RGBA size=128x128 at 0x7FB912704F28>: 100%|██████████| 300/300 [00:00<00:00, 360.22 Samples/s]               \n",
      "Processing <PIL.PngImagePlugin.PngImageFile image mode=RGBA size=128x128 at 0x7FB91057A390>:   1%|▏         | 4/300 [00:00<00:16, 17.95 Samples/s]"
     ]
    },
    {
     "name": "stdout",
     "output_type": "stream",
     "text": [
      "Initialised with 100 image(s) found.\n",
      "Output directory set to ./data_str/Obilique/output."
     ]
    },
    {
     "name": "stderr",
     "output_type": "stream",
     "text": [
      "Processing <PIL.Image.Image image mode=RGBA size=128x128 at 0x7FB9105164A8>: 100%|██████████| 300/300 [00:00<00:00, 374.73 Samples/s]               \n",
      "Processing <PIL.Image.Image image mode=RGBA size=128x128 at 0x7FB910540438>:   3%|▎         | 9/300 [00:00<00:14, 19.80 Samples/s]                "
     ]
    },
    {
     "name": "stdout",
     "output_type": "stream",
     "text": [
      "Initialised with 100 image(s) found.\n",
      "Output directory set to ./data_str/Centred/output."
     ]
    },
    {
     "name": "stderr",
     "output_type": "stream",
     "text": [
      "Processing <PIL.PngImagePlugin.PngImageFile image mode=RGBA size=128x128 at 0x7FB9105288D0>: 100%|██████████| 300/300 [00:00<00:00, 347.98 Samples/s]\n",
      "Processing <PIL.PngImagePlugin.PngImageFile image mode=RGBA size=128x128 at 0x7FB9105B51D0>:   1%|          | 3/300 [00:00<00:15, 19.50 Samples/s]"
     ]
    },
    {
     "name": "stdout",
     "output_type": "stream",
     "text": [
      "Initialised with 100 image(s) found.\n",
      "Output directory set to ./data_str/Rectangular/output."
     ]
    },
    {
     "name": "stderr",
     "output_type": "stream",
     "text": [
      "Processing <PIL.Image.Image image mode=RGBA size=128x128 at 0x7FB9104DACC0>: 100%|██████████| 300/300 [00:00<00:00, 386.17 Samples/s]               \n"
     ]
    }
   ],
   "source": [
    "import Augmentor\n",
    "##No of Augmented Images  per class\n",
    "n = 50\n",
    "for dir in os.listdir(\"./data_str/\"):\n",
    "    p= Augmentor.Pipeline(\"./data_str/\"+dir)\n",
    "    p.rotate(probability=0.7, max_left_rotation=20, max_right_rotation=20)\n",
    "#     p.zoom(probability=0.5, min_factor=1.1, max_factor=1.8)\n",
    "    n = 300\n",
    "    num_of_samples = int(n)\n",
    "    p.sample(num_of_samples)"
   ]
  }
 ],
 "metadata": {
  "kernelspec": {
   "display_name": "Python 3",
   "language": "python",
   "name": "python3"
  },
  "language_info": {
   "codemirror_mode": {
    "name": "ipython",
    "version": 3
   },
   "file_extension": ".py",
   "mimetype": "text/x-python",
   "name": "python",
   "nbconvert_exporter": "python",
   "pygments_lexer": "ipython3",
   "version": "3.7.3"
  }
 },
 "nbformat": 4,
 "nbformat_minor": 2
}
